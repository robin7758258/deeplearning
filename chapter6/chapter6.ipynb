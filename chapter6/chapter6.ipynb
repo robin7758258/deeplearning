{
 "cells": [
  {
   "cell_type": "code",
   "execution_count": 1,
   "metadata": {
    "collapsed": true
   },
   "outputs": [],
   "source": [
    "#六章学習に関するテクニック\n",
    "#6.1.2　SGD\n",
    "class SGD:\n",
    "    def __init__(self,lr=0.01):\n",
    "        self.lr=lr\n",
    "        \n",
    "    def update(self,params,grads):\n",
    "        for key in params.keys():\n",
    "            params[key]-=self.lr*grads[key]"
   ]
  },
  {
   "cell_type": "code",
   "execution_count": 3,
   "metadata": {},
   "outputs": [
    {
     "name": "stdout",
     "output_type": "stream",
     "text": [
      "epoch:0, train acc:0.08666666666666667, test acc:0.0792\n"
     ]
    },
    {
     "name": "stdout",
     "output_type": "stream",
     "text": [
      "epoch:1, train acc:0.09333333333333334, test acc:0.0789\n"
     ]
    },
    {
     "name": "stdout",
     "output_type": "stream",
     "text": [
      "epoch:2, train acc:0.10666666666666667, test acc:0.0853\n"
     ]
    },
    {
     "name": "stdout",
     "output_type": "stream",
     "text": [
      "epoch:3, train acc:0.12, test acc:0.0968\n"
     ]
    },
    {
     "name": "stdout",
     "output_type": "stream",
     "text": [
      "epoch:4, train acc:0.14, test acc:0.1148\n"
     ]
    },
    {
     "name": "stdout",
     "output_type": "stream",
     "text": [
      "epoch:5, train acc:0.17, test acc:0.1364\n"
     ]
    },
    {
     "name": "stdout",
     "output_type": "stream",
     "text": [
      "epoch:6, train acc:0.19333333333333333, test acc:0.158\n"
     ]
    },
    {
     "name": "stdout",
     "output_type": "stream",
     "text": [
      "epoch:7, train acc:0.24333333333333335, test acc:0.1825\n"
     ]
    },
    {
     "name": "stdout",
     "output_type": "stream",
     "text": [
      "epoch:8, train acc:0.27, test acc:0.2121\n"
     ]
    },
    {
     "name": "stdout",
     "output_type": "stream",
     "text": [
      "epoch:9, train acc:0.3233333333333333, test acc:0.2377\n"
     ]
    },
    {
     "name": "stdout",
     "output_type": "stream",
     "text": [
      "epoch:10, train acc:0.35333333333333333, test acc:0.2556\n"
     ]
    },
    {
     "name": "stdout",
     "output_type": "stream",
     "text": [
      "epoch:11, train acc:0.37666666666666665, test acc:0.2668\n"
     ]
    },
    {
     "name": "stdout",
     "output_type": "stream",
     "text": [
      "epoch:12, train acc:0.39, test acc:0.2765\n"
     ]
    },
    {
     "name": "stdout",
     "output_type": "stream",
     "text": [
      "epoch:13, train acc:0.39, test acc:0.2899\n"
     ]
    },
    {
     "name": "stdout",
     "output_type": "stream",
     "text": [
      "epoch:14, train acc:0.42, test acc:0.3017\n"
     ]
    },
    {
     "name": "stdout",
     "output_type": "stream",
     "text": [
      "epoch:15, train acc:0.4266666666666667, test acc:0.3106\n"
     ]
    },
    {
     "name": "stdout",
     "output_type": "stream",
     "text": [
      "epoch:16, train acc:0.43333333333333335, test acc:0.3147\n"
     ]
    },
    {
     "name": "stdout",
     "output_type": "stream",
     "text": [
      "epoch:17, train acc:0.44, test acc:0.319\n"
     ]
    },
    {
     "name": "stdout",
     "output_type": "stream",
     "text": [
      "epoch:18, train acc:0.44, test acc:0.3238\n"
     ]
    },
    {
     "name": "stdout",
     "output_type": "stream",
     "text": [
      "epoch:19, train acc:0.43, test acc:0.3251\n"
     ]
    },
    {
     "name": "stdout",
     "output_type": "stream",
     "text": [
      "epoch:20, train acc:0.46, test acc:0.3283\n"
     ]
    },
    {
     "name": "stdout",
     "output_type": "stream",
     "text": [
      "epoch:21, train acc:0.4766666666666667, test acc:0.3308\n"
     ]
    },
    {
     "name": "stdout",
     "output_type": "stream",
     "text": [
      "epoch:22, train acc:0.4866666666666667, test acc:0.3392\n"
     ]
    },
    {
     "name": "stdout",
     "output_type": "stream",
     "text": [
      "epoch:23, train acc:0.5166666666666667, test acc:0.3488\n"
     ]
    },
    {
     "name": "stdout",
     "output_type": "stream",
     "text": [
      "epoch:24, train acc:0.52, test acc:0.3587\n"
     ]
    },
    {
     "name": "stdout",
     "output_type": "stream",
     "text": [
      "epoch:25, train acc:0.5166666666666667, test acc:0.3616\n"
     ]
    },
    {
     "name": "stdout",
     "output_type": "stream",
     "text": [
      "epoch:26, train acc:0.52, test acc:0.3736\n"
     ]
    },
    {
     "name": "stdout",
     "output_type": "stream",
     "text": [
      "epoch:27, train acc:0.5033333333333333, test acc:0.3545\n"
     ]
    },
    {
     "name": "stdout",
     "output_type": "stream",
     "text": [
      "epoch:28, train acc:0.5266666666666666, test acc:0.3637\n"
     ]
    },
    {
     "name": "stdout",
     "output_type": "stream",
     "text": [
      "epoch:29, train acc:0.55, test acc:0.3736\n"
     ]
    },
    {
     "name": "stdout",
     "output_type": "stream",
     "text": [
      "epoch:30, train acc:0.5333333333333333, test acc:0.3816\n"
     ]
    },
    {
     "name": "stdout",
     "output_type": "stream",
     "text": [
      "epoch:31, train acc:0.5533333333333333, test acc:0.3989\n"
     ]
    },
    {
     "name": "stdout",
     "output_type": "stream",
     "text": [
      "epoch:32, train acc:0.5366666666666666, test acc:0.4054\n"
     ]
    },
    {
     "name": "stdout",
     "output_type": "stream",
     "text": [
      "epoch:33, train acc:0.5566666666666666, test acc:0.4107\n"
     ]
    },
    {
     "name": "stdout",
     "output_type": "stream",
     "text": [
      "epoch:34, train acc:0.5766666666666667, test acc:0.4186\n"
     ]
    },
    {
     "name": "stdout",
     "output_type": "stream",
     "text": [
      "epoch:35, train acc:0.5666666666666667, test acc:0.4269\n"
     ]
    },
    {
     "name": "stdout",
     "output_type": "stream",
     "text": [
      "epoch:36, train acc:0.5833333333333334, test acc:0.436\n"
     ]
    },
    {
     "name": "stdout",
     "output_type": "stream",
     "text": [
      "epoch:37, train acc:0.57, test acc:0.4314\n"
     ]
    },
    {
     "name": "stdout",
     "output_type": "stream",
     "text": [
      "epoch:38, train acc:0.5766666666666667, test acc:0.4397\n"
     ]
    },
    {
     "name": "stdout",
     "output_type": "stream",
     "text": [
      "epoch:39, train acc:0.57, test acc:0.4403\n"
     ]
    },
    {
     "name": "stdout",
     "output_type": "stream",
     "text": [
      "epoch:40, train acc:0.6066666666666667, test acc:0.4697\n"
     ]
    },
    {
     "name": "stdout",
     "output_type": "stream",
     "text": [
      "epoch:41, train acc:0.6133333333333333, test acc:0.4723\n"
     ]
    },
    {
     "name": "stdout",
     "output_type": "stream",
     "text": [
      "epoch:42, train acc:0.5766666666666667, test acc:0.455\n"
     ]
    },
    {
     "name": "stdout",
     "output_type": "stream",
     "text": [
      "epoch:43, train acc:0.6166666666666667, test acc:0.4789\n"
     ]
    },
    {
     "name": "stdout",
     "output_type": "stream",
     "text": [
      "epoch:44, train acc:0.6, test acc:0.4724\n"
     ]
    },
    {
     "name": "stdout",
     "output_type": "stream",
     "text": [
      "epoch:45, train acc:0.6333333333333333, test acc:0.4899\n"
     ]
    },
    {
     "name": "stdout",
     "output_type": "stream",
     "text": [
      "epoch:46, train acc:0.6166666666666667, test acc:0.4937\n"
     ]
    },
    {
     "name": "stdout",
     "output_type": "stream",
     "text": [
      "epoch:47, train acc:0.6333333333333333, test acc:0.5045\n"
     ]
    },
    {
     "name": "stdout",
     "output_type": "stream",
     "text": [
      "epoch:48, train acc:0.6266666666666667, test acc:0.5121\n"
     ]
    },
    {
     "name": "stdout",
     "output_type": "stream",
     "text": [
      "epoch:49, train acc:0.63, test acc:0.5094\n"
     ]
    },
    {
     "name": "stdout",
     "output_type": "stream",
     "text": [
      "epoch:50, train acc:0.63, test acc:0.5036\n"
     ]
    },
    {
     "name": "stdout",
     "output_type": "stream",
     "text": [
      "epoch:51, train acc:0.6366666666666667, test acc:0.5202\n"
     ]
    },
    {
     "name": "stdout",
     "output_type": "stream",
     "text": [
      "epoch:52, train acc:0.6266666666666667, test acc:0.5046\n"
     ]
    },
    {
     "name": "stdout",
     "output_type": "stream",
     "text": [
      "epoch:53, train acc:0.65, test acc:0.53\n"
     ]
    },
    {
     "name": "stdout",
     "output_type": "stream",
     "text": [
      "epoch:54, train acc:0.6366666666666667, test acc:0.5286\n"
     ]
    },
    {
     "name": "stdout",
     "output_type": "stream",
     "text": [
      "epoch:55, train acc:0.6633333333333333, test acc:0.5597\n"
     ]
    },
    {
     "name": "stdout",
     "output_type": "stream",
     "text": [
      "epoch:56, train acc:0.6666666666666666, test acc:0.5507\n"
     ]
    },
    {
     "name": "stdout",
     "output_type": "stream",
     "text": [
      "epoch:57, train acc:0.6766666666666666, test acc:0.5559\n"
     ]
    },
    {
     "name": "stdout",
     "output_type": "stream",
     "text": [
      "epoch:58, train acc:0.6833333333333333, test acc:0.5615\n"
     ]
    },
    {
     "name": "stdout",
     "output_type": "stream",
     "text": [
      "epoch:59, train acc:0.6933333333333334, test acc:0.5828\n"
     ]
    },
    {
     "name": "stdout",
     "output_type": "stream",
     "text": [
      "epoch:60, train acc:0.7, test acc:0.5892\n"
     ]
    },
    {
     "name": "stdout",
     "output_type": "stream",
     "text": [
      "epoch:61, train acc:0.6633333333333333, test acc:0.554\n"
     ]
    },
    {
     "name": "stdout",
     "output_type": "stream",
     "text": [
      "epoch:62, train acc:0.73, test acc:0.6063\n"
     ]
    },
    {
     "name": "stdout",
     "output_type": "stream",
     "text": [
      "epoch:63, train acc:0.7166666666666667, test acc:0.6061\n"
     ]
    },
    {
     "name": "stdout",
     "output_type": "stream",
     "text": [
      "epoch:64, train acc:0.7066666666666667, test acc:0.5816\n"
     ]
    },
    {
     "name": "stdout",
     "output_type": "stream",
     "text": [
      "epoch:65, train acc:0.7266666666666667, test acc:0.6128\n"
     ]
    },
    {
     "name": "stdout",
     "output_type": "stream",
     "text": [
      "epoch:66, train acc:0.7433333333333333, test acc:0.6192\n"
     ]
    },
    {
     "name": "stdout",
     "output_type": "stream",
     "text": [
      "epoch:67, train acc:0.7533333333333333, test acc:0.6336\n"
     ]
    },
    {
     "name": "stdout",
     "output_type": "stream",
     "text": [
      "epoch:68, train acc:0.7566666666666667, test acc:0.6292\n"
     ]
    },
    {
     "name": "stdout",
     "output_type": "stream",
     "text": [
      "epoch:69, train acc:0.7666666666666667, test acc:0.6317\n"
     ]
    },
    {
     "name": "stdout",
     "output_type": "stream",
     "text": [
      "epoch:70, train acc:0.78, test acc:0.6432\n"
     ]
    },
    {
     "name": "stdout",
     "output_type": "stream",
     "text": [
      "epoch:71, train acc:0.77, test acc:0.6348\n"
     ]
    },
    {
     "name": "stdout",
     "output_type": "stream",
     "text": [
      "epoch:72, train acc:0.76, test acc:0.626\n"
     ]
    },
    {
     "name": "stdout",
     "output_type": "stream",
     "text": [
      "epoch:73, train acc:0.7666666666666667, test acc:0.6387\n"
     ]
    },
    {
     "name": "stdout",
     "output_type": "stream",
     "text": [
      "epoch:74, train acc:0.7766666666666666, test acc:0.6413\n"
     ]
    },
    {
     "name": "stdout",
     "output_type": "stream",
     "text": [
      "epoch:75, train acc:0.7733333333333333, test acc:0.6356\n"
     ]
    },
    {
     "name": "stdout",
     "output_type": "stream",
     "text": [
      "epoch:76, train acc:0.7933333333333333, test acc:0.652\n"
     ]
    },
    {
     "name": "stdout",
     "output_type": "stream",
     "text": [
      "epoch:77, train acc:0.7866666666666666, test acc:0.6437\n"
     ]
    },
    {
     "name": "stdout",
     "output_type": "stream",
     "text": [
      "epoch:78, train acc:0.77, test acc:0.6387\n"
     ]
    },
    {
     "name": "stdout",
     "output_type": "stream",
     "text": [
      "epoch:79, train acc:0.7733333333333333, test acc:0.6466\n"
     ]
    },
    {
     "name": "stdout",
     "output_type": "stream",
     "text": [
      "epoch:80, train acc:0.7833333333333333, test acc:0.646\n"
     ]
    },
    {
     "name": "stdout",
     "output_type": "stream",
     "text": [
      "epoch:81, train acc:0.7966666666666666, test acc:0.6583\n"
     ]
    },
    {
     "name": "stdout",
     "output_type": "stream",
     "text": [
      "epoch:82, train acc:0.79, test acc:0.6609\n"
     ]
    },
    {
     "name": "stdout",
     "output_type": "stream",
     "text": [
      "epoch:83, train acc:0.7933333333333333, test acc:0.656\n"
     ]
    },
    {
     "name": "stdout",
     "output_type": "stream",
     "text": [
      "epoch:84, train acc:0.8, test acc:0.6644\n"
     ]
    },
    {
     "name": "stdout",
     "output_type": "stream",
     "text": [
      "epoch:85, train acc:0.79, test acc:0.6642\n"
     ]
    },
    {
     "name": "stdout",
     "output_type": "stream",
     "text": [
      "epoch:86, train acc:0.8, test acc:0.6675\n"
     ]
    },
    {
     "name": "stdout",
     "output_type": "stream",
     "text": [
      "epoch:87, train acc:0.8, test acc:0.667\n"
     ]
    },
    {
     "name": "stdout",
     "output_type": "stream",
     "text": [
      "epoch:88, train acc:0.8233333333333334, test acc:0.6759\n"
     ]
    },
    {
     "name": "stdout",
     "output_type": "stream",
     "text": [
      "epoch:89, train acc:0.8166666666666667, test acc:0.6763\n"
     ]
    },
    {
     "name": "stdout",
     "output_type": "stream",
     "text": [
      "epoch:90, train acc:0.8133333333333334, test acc:0.6679\n"
     ]
    },
    {
     "name": "stdout",
     "output_type": "stream",
     "text": [
      "epoch:91, train acc:0.8233333333333334, test acc:0.6692\n"
     ]
    },
    {
     "name": "stdout",
     "output_type": "stream",
     "text": [
      "epoch:92, train acc:0.8, test acc:0.6719\n"
     ]
    },
    {
     "name": "stdout",
     "output_type": "stream",
     "text": [
      "epoch:93, train acc:0.8133333333333334, test acc:0.6743\n"
     ]
    },
    {
     "name": "stdout",
     "output_type": "stream",
     "text": [
      "epoch:94, train acc:0.8066666666666666, test acc:0.6732\n"
     ]
    },
    {
     "name": "stdout",
     "output_type": "stream",
     "text": [
      "epoch:95, train acc:0.81, test acc:0.6784\n"
     ]
    },
    {
     "name": "stdout",
     "output_type": "stream",
     "text": [
      "epoch:96, train acc:0.82, test acc:0.6719\n"
     ]
    },
    {
     "name": "stdout",
     "output_type": "stream",
     "text": [
      "epoch:97, train acc:0.81, test acc:0.6688\n"
     ]
    },
    {
     "name": "stdout",
     "output_type": "stream",
     "text": [
      "epoch:98, train acc:0.8033333333333333, test acc:0.6667\n"
     ]
    },
    {
     "name": "stdout",
     "output_type": "stream",
     "text": [
      "epoch:99, train acc:0.8266666666666667, test acc:0.6829\n"
     ]
    },
    {
     "name": "stdout",
     "output_type": "stream",
     "text": [
      "epoch:100, train acc:0.82, test acc:0.6845\n"
     ]
    },
    {
     "name": "stdout",
     "output_type": "stream",
     "text": [
      "epoch:101, train acc:0.8266666666666667, test acc:0.6903\n"
     ]
    },
    {
     "name": "stdout",
     "output_type": "stream",
     "text": [
      "epoch:102, train acc:0.8366666666666667, test acc:0.6812\n"
     ]
    },
    {
     "name": "stdout",
     "output_type": "stream",
     "text": [
      "epoch:103, train acc:0.8266666666666667, test acc:0.6831\n"
     ]
    },
    {
     "name": "stdout",
     "output_type": "stream",
     "text": [
      "epoch:104, train acc:0.8266666666666667, test acc:0.6852\n"
     ]
    },
    {
     "name": "stdout",
     "output_type": "stream",
     "text": [
      "epoch:105, train acc:0.83, test acc:0.6916\n"
     ]
    },
    {
     "name": "stdout",
     "output_type": "stream",
     "text": [
      "epoch:106, train acc:0.8366666666666667, test acc:0.6982\n"
     ]
    },
    {
     "name": "stdout",
     "output_type": "stream",
     "text": [
      "epoch:107, train acc:0.8333333333333334, test acc:0.6876\n"
     ]
    },
    {
     "name": "stdout",
     "output_type": "stream",
     "text": [
      "epoch:108, train acc:0.84, test acc:0.6899\n"
     ]
    },
    {
     "name": "stdout",
     "output_type": "stream",
     "text": [
      "epoch:109, train acc:0.8433333333333334, test acc:0.6754\n"
     ]
    },
    {
     "name": "stdout",
     "output_type": "stream",
     "text": [
      "epoch:110, train acc:0.8433333333333334, test acc:0.6902\n"
     ]
    },
    {
     "name": "stdout",
     "output_type": "stream",
     "text": [
      "epoch:111, train acc:0.84, test acc:0.681\n"
     ]
    },
    {
     "name": "stdout",
     "output_type": "stream",
     "text": [
      "epoch:112, train acc:0.8333333333333334, test acc:0.6887\n"
     ]
    },
    {
     "name": "stdout",
     "output_type": "stream",
     "text": [
      "epoch:113, train acc:0.84, test acc:0.6875\n"
     ]
    },
    {
     "name": "stdout",
     "output_type": "stream",
     "text": [
      "epoch:114, train acc:0.8366666666666667, test acc:0.6921\n"
     ]
    },
    {
     "name": "stdout",
     "output_type": "stream",
     "text": [
      "epoch:115, train acc:0.8433333333333334, test acc:0.6976\n"
     ]
    },
    {
     "name": "stdout",
     "output_type": "stream",
     "text": [
      "epoch:116, train acc:0.8433333333333334, test acc:0.7009\n"
     ]
    },
    {
     "name": "stdout",
     "output_type": "stream",
     "text": [
      "epoch:117, train acc:0.8466666666666667, test acc:0.698\n"
     ]
    },
    {
     "name": "stdout",
     "output_type": "stream",
     "text": [
      "epoch:118, train acc:0.8466666666666667, test acc:0.6979\n"
     ]
    },
    {
     "name": "stdout",
     "output_type": "stream",
     "text": [
      "epoch:119, train acc:0.8433333333333334, test acc:0.6968\n"
     ]
    },
    {
     "name": "stdout",
     "output_type": "stream",
     "text": [
      "epoch:120, train acc:0.8466666666666667, test acc:0.7013\n"
     ]
    },
    {
     "name": "stdout",
     "output_type": "stream",
     "text": [
      "epoch:121, train acc:0.85, test acc:0.7033\n"
     ]
    },
    {
     "name": "stdout",
     "output_type": "stream",
     "text": [
      "epoch:122, train acc:0.8566666666666667, test acc:0.7086\n"
     ]
    },
    {
     "name": "stdout",
     "output_type": "stream",
     "text": [
      "epoch:123, train acc:0.85, test acc:0.7045\n"
     ]
    },
    {
     "name": "stdout",
     "output_type": "stream",
     "text": [
      "epoch:124, train acc:0.8633333333333333, test acc:0.7058\n"
     ]
    },
    {
     "name": "stdout",
     "output_type": "stream",
     "text": [
      "epoch:125, train acc:0.8566666666666667, test acc:0.7048\n"
     ]
    },
    {
     "name": "stdout",
     "output_type": "stream",
     "text": [
      "epoch:126, train acc:0.8533333333333334, test acc:0.706\n"
     ]
    },
    {
     "name": "stdout",
     "output_type": "stream",
     "text": [
      "epoch:127, train acc:0.8533333333333334, test acc:0.7032\n"
     ]
    },
    {
     "name": "stdout",
     "output_type": "stream",
     "text": [
      "epoch:128, train acc:0.85, test acc:0.7058\n"
     ]
    },
    {
     "name": "stdout",
     "output_type": "stream",
     "text": [
      "epoch:129, train acc:0.8633333333333333, test acc:0.7003\n"
     ]
    },
    {
     "name": "stdout",
     "output_type": "stream",
     "text": [
      "epoch:130, train acc:0.8633333333333333, test acc:0.7206\n"
     ]
    },
    {
     "name": "stdout",
     "output_type": "stream",
     "text": [
      "epoch:131, train acc:0.8733333333333333, test acc:0.7105\n"
     ]
    },
    {
     "name": "stdout",
     "output_type": "stream",
     "text": [
      "epoch:132, train acc:0.8666666666666667, test acc:0.7018\n"
     ]
    },
    {
     "name": "stdout",
     "output_type": "stream",
     "text": [
      "epoch:133, train acc:0.8633333333333333, test acc:0.7093\n"
     ]
    },
    {
     "name": "stdout",
     "output_type": "stream",
     "text": [
      "epoch:134, train acc:0.85, test acc:0.714\n"
     ]
    },
    {
     "name": "stdout",
     "output_type": "stream",
     "text": [
      "epoch:135, train acc:0.8666666666666667, test acc:0.7172\n"
     ]
    },
    {
     "name": "stdout",
     "output_type": "stream",
     "text": [
      "epoch:136, train acc:0.8533333333333334, test acc:0.7117\n"
     ]
    },
    {
     "name": "stdout",
     "output_type": "stream",
     "text": [
      "epoch:137, train acc:0.86, test acc:0.7146\n"
     ]
    },
    {
     "name": "stdout",
     "output_type": "stream",
     "text": [
      "epoch:138, train acc:0.8633333333333333, test acc:0.7129\n"
     ]
    },
    {
     "name": "stdout",
     "output_type": "stream",
     "text": [
      "epoch:139, train acc:0.8633333333333333, test acc:0.6988\n"
     ]
    },
    {
     "name": "stdout",
     "output_type": "stream",
     "text": [
      "epoch:140, train acc:0.85, test acc:0.7095\n"
     ]
    },
    {
     "name": "stdout",
     "output_type": "stream",
     "text": [
      "epoch:141, train acc:0.8633333333333333, test acc:0.71\n"
     ]
    },
    {
     "name": "stdout",
     "output_type": "stream",
     "text": [
      "epoch:142, train acc:0.86, test acc:0.7045\n"
     ]
    },
    {
     "name": "stdout",
     "output_type": "stream",
     "text": [
      "epoch:143, train acc:0.8666666666666667, test acc:0.7007\n"
     ]
    },
    {
     "name": "stdout",
     "output_type": "stream",
     "text": [
      "epoch:144, train acc:0.8566666666666667, test acc:0.7125\n"
     ]
    },
    {
     "name": "stdout",
     "output_type": "stream",
     "text": [
      "epoch:145, train acc:0.86, test acc:0.7072\n"
     ]
    },
    {
     "name": "stdout",
     "output_type": "stream",
     "text": [
      "epoch:146, train acc:0.8633333333333333, test acc:0.7136\n"
     ]
    },
    {
     "name": "stdout",
     "output_type": "stream",
     "text": [
      "epoch:147, train acc:0.86, test acc:0.7066\n"
     ]
    },
    {
     "name": "stdout",
     "output_type": "stream",
     "text": [
      "epoch:148, train acc:0.8566666666666667, test acc:0.711\n"
     ]
    },
    {
     "name": "stdout",
     "output_type": "stream",
     "text": [
      "epoch:149, train acc:0.8733333333333333, test acc:0.7091\n"
     ]
    },
    {
     "name": "stdout",
     "output_type": "stream",
     "text": [
      "epoch:150, train acc:0.87, test acc:0.7008\n"
     ]
    },
    {
     "name": "stdout",
     "output_type": "stream",
     "text": [
      "epoch:151, train acc:0.8733333333333333, test acc:0.717\n"
     ]
    },
    {
     "name": "stdout",
     "output_type": "stream",
     "text": [
      "epoch:152, train acc:0.8666666666666667, test acc:0.7122\n"
     ]
    }
   ],
   "source": [
    "# coding: utf-8\n",
    "import os\n",
    "import sys\n",
    "\n",
    "sys.path.append(os.pardir)  # 親ディレクトリのファイルをインポートするための設定\n",
    "import numpy as np\n",
    "import matplotlib.pyplot as plt\n",
    "from dataset.mnist import load_mnist\n",
    "from common.multi_layer_net import MultiLayerNet\n",
    "from common.optimizer import SGD\n",
    "\n",
    "(x_train, t_train), (x_test, t_test) = load_mnist(normalize=True)\n",
    "\n",
    "# 過学習を再現するために、学習データを削減\n",
    "x_train = x_train[:300]\n",
    "t_train = t_train[:300]\n",
    "# coding: utf-8\n",
    "import os\n",
    "import sys\n",
    "\n",
    "sys.path.append(os.pardir)  # 親ディレクトリのファイルをインポートするための設定\n",
    "import numpy as np\n",
    "import matplotlib.pyplot as plt\n",
    "from dataset.mnist import load_mnist\n",
    "from common.multi_layer_net import MultiLayerNet\n",
    "from common.optimizer import SGD\n",
    "\n",
    "(x_train, t_train), (x_test, t_test) = load_mnist(normalize=True)\n",
    "\n",
    "# 過学習を再現するために、学習データを削減\n",
    "x_train = x_train[:300]\n",
    "t_train = t_train[:300]\n",
    "\n",
    "# weight decay（荷重減衰）の設定 =======================\n",
    "#weight_decay_lambda = 0 # weight decayを使用しない場合\n",
    "weight_decay_lambda = 0.1\n",
    "# ====================================================\n",
    "\n",
    "network = MultiLayerNet(input_size=784, hidden_size_list=[100, 100, 100, 100, 100, 100], output_size=10,\n",
    "                        weight_decay_lambda=weight_decay_lambda)\n",
    "optimizer = SGD(lr=0.01)\n",
    "\n",
    "max_epochs = 201\n",
    "train_size = x_train.shape[0]\n",
    "batch_size = 100\n",
    "\n",
    "train_loss_list = []\n",
    "train_acc_list = []\n",
    "test_acc_list = []\n",
    "\n",
    "iter_per_epoch = max(train_size / batch_size, 1)\n",
    "epoch_cnt = 0\n",
    "\n",
    "for i in range(1000000000):\n",
    "    batch_mask = np.random.choice(train_size, batch_size)\n",
    "    x_batch = x_train[batch_mask]\n",
    "    t_batch = t_train[batch_mask]\n",
    "\n",
    "    grads = network.gradient(x_batch, t_batch)\n",
    "    optimizer.update(network.params, grads)\n",
    "\n",
    "    if i % iter_per_epoch == 0:\n",
    "        train_acc = network.accuracy(x_train, t_train)\n",
    "        test_acc = network.accuracy(x_test, t_test)\n",
    "        train_acc_list.append(train_acc)\n",
    "        test_acc_list.append(test_acc)\n",
    "\n",
    "        print(\"epoch:\" + str(epoch_cnt) + \", train acc:\" + str(train_acc) + \", test acc:\" + str(test_acc))\n",
    "\n",
    "        epoch_cnt += 1\n",
    "        if epoch_cnt >= max_epochs:\n",
    "            break\n",
    "\n",
    "\n",
    "# 3.グラフの描画==========\n",
    "markers = {'train': 'o', 'test': 's'}\n",
    "x = np.arange(max_epochs)\n",
    "plt.plot(x, train_acc_list, marker='o', label='train', markevery=10)\n",
    "plt.plot(x, test_acc_list, marker='s', label='test', markevery=10)\n",
    "plt.xlabel(\"epochs\")\n",
    "plt.ylabel(\"accuracy\")\n",
    "plt.ylim(0, 1.0)\n",
    "plt.legend(loc='lower right')\n",
    "plt.show()"
   ]
  },
  {
   "cell_type": "code",
   "execution_count": 4,
   "metadata": {},
   "outputs": [
    {
     "name": "stdout",
     "output_type": "stream",
     "text": [
      "train loss:2.304129000222355\n"
     ]
    },
    {
     "name": "stdout",
     "output_type": "stream",
     "text": [
      "=== epoch:1, train acc:0.09333333333333334, test acc:0.0972 ===\ntrain loss:2.28874514256382\ntrain loss:2.3060178689707285\ntrain loss:2.295930872123633\n"
     ]
    },
    {
     "name": "stdout",
     "output_type": "stream",
     "text": [
      "=== epoch:2, train acc:0.10666666666666667, test acc:0.0982 ===\ntrain loss:2.2995576223173\ntrain loss:2.2961073772956775\ntrain loss:2.2853939369244296\n"
     ]
    },
    {
     "name": "stdout",
     "output_type": "stream",
     "text": [
      "=== epoch:3, train acc:0.10666666666666667, test acc:0.0998 ===\ntrain loss:2.302245749870722\ntrain loss:2.303822775243542\ntrain loss:2.287558129193339\n"
     ]
    },
    {
     "name": "stdout",
     "output_type": "stream",
     "text": [
      "=== epoch:4, train acc:0.10666666666666667, test acc:0.101 ===\ntrain loss:2.3001263789427617\ntrain loss:2.305823491070246\ntrain loss:2.2917506335113678\n"
     ]
    },
    {
     "name": "stdout",
     "output_type": "stream",
     "text": [
      "=== epoch:5, train acc:0.11666666666666667, test acc:0.1034 ===\ntrain loss:2.302177566860261\ntrain loss:2.2984411234919753\ntrain loss:2.3025625897626214\n"
     ]
    },
    {
     "name": "stdout",
     "output_type": "stream",
     "text": [
      "=== epoch:6, train acc:0.11666666666666667, test acc:0.1076 ===\ntrain loss:2.2878352330899223\ntrain loss:2.284466994814503\ntrain loss:2.300044503134523\n"
     ]
    },
    {
     "name": "stdout",
     "output_type": "stream",
     "text": [
      "=== epoch:7, train acc:0.11666666666666667, test acc:0.1099 ===\ntrain loss:2.3041448440709518\ntrain loss:2.284961574269081\ntrain loss:2.2979201105565736\n"
     ]
    },
    {
     "name": "stdout",
     "output_type": "stream",
     "text": [
      "=== epoch:8, train acc:0.13333333333333333, test acc:0.1133 ===\ntrain loss:2.288381210777836\ntrain loss:2.2788930312374456\ntrain loss:2.289646602480059\n"
     ]
    },
    {
     "name": "stdout",
     "output_type": "stream",
     "text": [
      "=== epoch:9, train acc:0.13666666666666666, test acc:0.1185 ===\ntrain loss:2.2972101492220283\ntrain loss:2.290351148312559\ntrain loss:2.2850695354486787\n"
     ]
    },
    {
     "name": "stdout",
     "output_type": "stream",
     "text": [
      "=== epoch:10, train acc:0.14333333333333334, test acc:0.1232 ===\ntrain loss:2.284222033393201\ntrain loss:2.285883480604353\ntrain loss:2.287195912273901\n"
     ]
    },
    {
     "name": "stdout",
     "output_type": "stream",
     "text": [
      "=== epoch:11, train acc:0.14, test acc:0.1268 ===\ntrain loss:2.3011269508876704\ntrain loss:2.2954783102175935\ntrain loss:2.2879330310279484\n"
     ]
    },
    {
     "name": "stdout",
     "output_type": "stream",
     "text": [
      "=== epoch:12, train acc:0.15, test acc:0.1284 ===\ntrain loss:2.281745850825837\ntrain loss:2.2925253577352533\ntrain loss:2.2921349617189226\n"
     ]
    },
    {
     "name": "stdout",
     "output_type": "stream",
     "text": [
      "=== epoch:13, train acc:0.16333333333333333, test acc:0.1328 ===\ntrain loss:2.2961465707575823\ntrain loss:2.292425377290877\ntrain loss:2.291827026981732\n"
     ]
    },
    {
     "name": "stdout",
     "output_type": "stream",
     "text": [
      "=== epoch:14, train acc:0.17, test acc:0.14 ===\ntrain loss:2.2797470209073016\ntrain loss:2.2762026452315918\ntrain loss:2.2811549396279243\n"
     ]
    },
    {
     "name": "stdout",
     "output_type": "stream",
     "text": [
      "=== epoch:15, train acc:0.17, test acc:0.1449 ===\ntrain loss:2.2735588484450937\ntrain loss:2.274914844815365\ntrain loss:2.277418405784235\n"
     ]
    },
    {
     "name": "stdout",
     "output_type": "stream",
     "text": [
      "=== epoch:16, train acc:0.18, test acc:0.1505 ===\ntrain loss:2.2793709256131134\ntrain loss:2.277869002790731\ntrain loss:2.275183063419518\n"
     ]
    },
    {
     "name": "stdout",
     "output_type": "stream",
     "text": [
      "=== epoch:17, train acc:0.19, test acc:0.1537 ===\ntrain loss:2.267817637299292\ntrain loss:2.2848607922804045\ntrain loss:2.2727331234992896\n"
     ]
    },
    {
     "name": "stdout",
     "output_type": "stream",
     "text": [
      "=== epoch:18, train acc:0.19666666666666666, test acc:0.1621 ===\ntrain loss:2.2753092322770057\ntrain loss:2.2722465656324116\ntrain loss:2.284745686758963\n"
     ]
    },
    {
     "name": "stdout",
     "output_type": "stream",
     "text": [
      "=== epoch:19, train acc:0.21666666666666667, test acc:0.1695 ===\ntrain loss:2.2782081779036254\ntrain loss:2.2821170287112444\ntrain loss:2.285444372311164\n"
     ]
    },
    {
     "name": "stdout",
     "output_type": "stream",
     "text": [
      "=== epoch:20, train acc:0.22666666666666666, test acc:0.1747 ===\ntrain loss:2.281352693552315\ntrain loss:2.280631732373188\ntrain loss:2.2808585980486584\n"
     ]
    },
    {
     "name": "stdout",
     "output_type": "stream",
     "text": [
      "=== epoch:21, train acc:0.23666666666666666, test acc:0.1833 ===\ntrain loss:2.279183503493108\ntrain loss:2.2843504035865942\ntrain loss:2.274430699693538\n"
     ]
    },
    {
     "name": "stdout",
     "output_type": "stream",
     "text": [
      "=== epoch:22, train acc:0.24333333333333335, test acc:0.19 ===\ntrain loss:2.2848345915143673\ntrain loss:2.280388535406612\ntrain loss:2.274267326230634\n"
     ]
    },
    {
     "name": "stdout",
     "output_type": "stream",
     "text": [
      "=== epoch:23, train acc:0.25666666666666665, test acc:0.1947 ===\ntrain loss:2.2915377248926005\ntrain loss:2.271838138500626\ntrain loss:2.2778940297664074\n"
     ]
    },
    {
     "name": "stdout",
     "output_type": "stream",
     "text": [
      "=== epoch:24, train acc:0.27, test acc:0.2 ===\ntrain loss:2.2658257761503795\ntrain loss:2.2660347262044356\ntrain loss:2.2681927761509546\n"
     ]
    },
    {
     "name": "stdout",
     "output_type": "stream",
     "text": [
      "=== epoch:25, train acc:0.2866666666666667, test acc:0.2043 ===\ntrain loss:2.270832649438482\ntrain loss:2.2686838235649445\ntrain loss:2.2711925761810297\n"
     ]
    },
    {
     "name": "stdout",
     "output_type": "stream",
     "text": [
      "=== epoch:26, train acc:0.2966666666666667, test acc:0.2087 ===\ntrain loss:2.2663451470639826\ntrain loss:2.266107726917228\ntrain loss:2.2862105378881323\n"
     ]
    },
    {
     "name": "stdout",
     "output_type": "stream",
     "text": [
      "=== epoch:27, train acc:0.3, test acc:0.2093 ===\ntrain loss:2.2715287836739675\ntrain loss:2.27403545087989\ntrain loss:2.2635691399595954\n"
     ]
    },
    {
     "name": "stdout",
     "output_type": "stream",
     "text": [
      "=== epoch:28, train acc:0.29, test acc:0.213 ===\ntrain loss:2.271408334501219\ntrain loss:2.275686517698017\ntrain loss:2.273816777780633\n"
     ]
    },
    {
     "name": "stdout",
     "output_type": "stream",
     "text": [
      "=== epoch:29, train acc:0.29, test acc:0.2171 ===\ntrain loss:2.2705960675825065\ntrain loss:2.2805881162816437\ntrain loss:2.2523160444594463\n"
     ]
    },
    {
     "name": "stdout",
     "output_type": "stream",
     "text": [
      "=== epoch:30, train acc:0.3, test acc:0.2231 ===\ntrain loss:2.269271734604115\ntrain loss:2.260106875358778\ntrain loss:2.2515311026290177\n"
     ]
    },
    {
     "name": "stdout",
     "output_type": "stream",
     "text": [
      "=== epoch:31, train acc:0.3, test acc:0.2257 ===\ntrain loss:2.261173483469637\ntrain loss:2.285200587663792\ntrain loss:2.2616773179682004\n"
     ]
    },
    {
     "name": "stdout",
     "output_type": "stream",
     "text": [
      "=== epoch:32, train acc:0.3, test acc:0.2279 ===\ntrain loss:2.2676392670042\ntrain loss:2.2757570910164207\ntrain loss:2.2836041863920538\n"
     ]
    },
    {
     "name": "stdout",
     "output_type": "stream",
     "text": [
      "=== epoch:33, train acc:0.30333333333333334, test acc:0.2293 ===\ntrain loss:2.271046271267727\ntrain loss:2.267343773311829\ntrain loss:2.269489723325536\n"
     ]
    },
    {
     "name": "stdout",
     "output_type": "stream",
     "text": [
      "=== epoch:34, train acc:0.31333333333333335, test acc:0.2311 ===\ntrain loss:2.263092346613796\ntrain loss:2.271735525316329\ntrain loss:2.2701331110198115\n"
     ]
    },
    {
     "name": "stdout",
     "output_type": "stream",
     "text": [
      "=== epoch:35, train acc:0.30666666666666664, test acc:0.2348 ===\ntrain loss:2.264582936881182\ntrain loss:2.2661828666103223\ntrain loss:2.2601417989903623\n"
     ]
    },
    {
     "name": "stdout",
     "output_type": "stream",
     "text": [
      "=== epoch:36, train acc:0.30666666666666664, test acc:0.2377 ===\ntrain loss:2.2561855150402237\ntrain loss:2.249303173107061\ntrain loss:2.2664397853855762\n"
     ]
    },
    {
     "name": "stdout",
     "output_type": "stream",
     "text": [
      "=== epoch:37, train acc:0.31333333333333335, test acc:0.2391 ===\ntrain loss:2.2659457093251407\ntrain loss:2.249589129340249\ntrain loss:2.259615440872103\n"
     ]
    },
    {
     "name": "stdout",
     "output_type": "stream",
     "text": [
      "=== epoch:38, train acc:0.31666666666666665, test acc:0.2419 ===\ntrain loss:2.263914861765316\ntrain loss:2.247107297296998\ntrain loss:2.268316703801619\n"
     ]
    },
    {
     "name": "stdout",
     "output_type": "stream",
     "text": [
      "=== epoch:39, train acc:0.31333333333333335, test acc:0.2423 ===\ntrain loss:2.273275993397906\ntrain loss:2.261834426433146\ntrain loss:2.2673659698855806\n"
     ]
    },
    {
     "name": "stdout",
     "output_type": "stream",
     "text": [
      "=== epoch:40, train acc:0.31666666666666665, test acc:0.2432 ===\ntrain loss:2.2510839116717274\ntrain loss:2.257096511451229\ntrain loss:2.2587508108668723\n"
     ]
    },
    {
     "name": "stdout",
     "output_type": "stream",
     "text": [
      "=== epoch:41, train acc:0.31666666666666665, test acc:0.2441 ===\ntrain loss:2.2508195046445536\ntrain loss:2.248280384549972\ntrain loss:2.267334004897895\n"
     ]
    },
    {
     "name": "stdout",
     "output_type": "stream",
     "text": [
      "=== epoch:42, train acc:0.31666666666666665, test acc:0.2468 ===\ntrain loss:2.2613366386876668\ntrain loss:2.2566687035287116\ntrain loss:2.24592561990075\n"
     ]
    },
    {
     "name": "stdout",
     "output_type": "stream",
     "text": [
      "=== epoch:43, train acc:0.31666666666666665, test acc:0.2488 ===\ntrain loss:2.26837060019912\ntrain loss:2.266337177324935\ntrain loss:2.2428185113070227\n"
     ]
    },
    {
     "name": "stdout",
     "output_type": "stream",
     "text": [
      "=== epoch:44, train acc:0.31666666666666665, test acc:0.2505 ===\ntrain loss:2.256622616393632\ntrain loss:2.254094955179602\ntrain loss:2.2462669751104682\n"
     ]
    },
    {
     "name": "stdout",
     "output_type": "stream",
     "text": [
      "=== epoch:45, train acc:0.31666666666666665, test acc:0.2533 ===\ntrain loss:2.256523310831034\ntrain loss:2.261773774711924\ntrain loss:2.25762240791069\n"
     ]
    },
    {
     "name": "stdout",
     "output_type": "stream",
     "text": [
      "=== epoch:46, train acc:0.31, test acc:0.2534 ===\ntrain loss:2.2511848205593505\ntrain loss:2.253925758614676\ntrain loss:2.262644209785483\n"
     ]
    },
    {
     "name": "stdout",
     "output_type": "stream",
     "text": [
      "=== epoch:47, train acc:0.31666666666666665, test acc:0.2568 ===\ntrain loss:2.251426514321727\ntrain loss:2.2506199826254\ntrain loss:2.255264306471633\n"
     ]
    },
    {
     "name": "stdout",
     "output_type": "stream",
     "text": [
      "=== epoch:48, train acc:0.32, test acc:0.2579 ===\ntrain loss:2.2583408129198004\ntrain loss:2.2757648349832387\ntrain loss:2.233142142384574\n"
     ]
    },
    {
     "name": "stdout",
     "output_type": "stream",
     "text": [
      "=== epoch:49, train acc:0.3233333333333333, test acc:0.2599 ===\ntrain loss:2.2631666717637433\ntrain loss:2.2396106484144145\ntrain loss:2.2566073678148704\n"
     ]
    },
    {
     "name": "stdout",
     "output_type": "stream",
     "text": [
      "=== epoch:50, train acc:0.3333333333333333, test acc:0.2622 ===\ntrain loss:2.249602821758075\ntrain loss:2.2552997971332247\ntrain loss:2.252316615039649\n"
     ]
    },
    {
     "name": "stdout",
     "output_type": "stream",
     "text": [
      "=== epoch:51, train acc:0.33666666666666667, test acc:0.2621 ===\ntrain loss:2.261371881252641\ntrain loss:2.2388494645710257\ntrain loss:2.2530406858232874\n"
     ]
    },
    {
     "name": "stdout",
     "output_type": "stream",
     "text": [
      "=== epoch:52, train acc:0.3333333333333333, test acc:0.2622 ===\ntrain loss:2.244114490617597\ntrain loss:2.2713877426732623\ntrain loss:2.2388910878853054\n"
     ]
    },
    {
     "name": "stdout",
     "output_type": "stream",
     "text": [
      "=== epoch:53, train acc:0.3333333333333333, test acc:0.2636 ===\ntrain loss:2.246201866822085\ntrain loss:2.2340334687727443\ntrain loss:2.249945580183793\n"
     ]
    },
    {
     "name": "stdout",
     "output_type": "stream",
     "text": [
      "=== epoch:54, train acc:0.33, test acc:0.2656 ===\ntrain loss:2.246178982438332\ntrain loss:2.2585290792666073\ntrain loss:2.2300301801776126\n"
     ]
    },
    {
     "name": "stdout",
     "output_type": "stream",
     "text": [
      "=== epoch:55, train acc:0.3333333333333333, test acc:0.2667 ===\ntrain loss:2.2462267973146663\ntrain loss:2.2346090454345737\ntrain loss:2.240062859747865\n"
     ]
    },
    {
     "name": "stdout",
     "output_type": "stream",
     "text": [
      "=== epoch:56, train acc:0.33, test acc:0.2671 ===\ntrain loss:2.2614589725163188\ntrain loss:2.243732127017662\ntrain loss:2.2336679654967337\n"
     ]
    },
    {
     "name": "stdout",
     "output_type": "stream",
     "text": [
      "=== epoch:57, train acc:0.3333333333333333, test acc:0.2681 ===\ntrain loss:2.2146178240321444\ntrain loss:2.2426639465047185\ntrain loss:2.222208224451896\n"
     ]
    },
    {
     "name": "stdout",
     "output_type": "stream",
     "text": [
      "=== epoch:58, train acc:0.3333333333333333, test acc:0.2692 ===\ntrain loss:2.2371885857358587\ntrain loss:2.244041554060205\ntrain loss:2.241203530816876\n"
     ]
    },
    {
     "name": "stdout",
     "output_type": "stream",
     "text": [
      "=== epoch:59, train acc:0.3333333333333333, test acc:0.2693 ===\ntrain loss:2.2313869248918308\ntrain loss:2.2196288274985623\ntrain loss:2.2339535121432577\n"
     ]
    },
    {
     "name": "stdout",
     "output_type": "stream",
     "text": [
      "=== epoch:60, train acc:0.34, test acc:0.2715 ===\ntrain loss:2.221845426971521\ntrain loss:2.235836475703165\ntrain loss:2.2354105826751094\n"
     ]
    },
    {
     "name": "stdout",
     "output_type": "stream",
     "text": [
      "=== epoch:61, train acc:0.34, test acc:0.2721 ===\ntrain loss:2.2313003900533532\ntrain loss:2.2479520641881114\ntrain loss:2.2237087108184195\n"
     ]
    },
    {
     "name": "stdout",
     "output_type": "stream",
     "text": [
      "=== epoch:62, train acc:0.3466666666666667, test acc:0.2741 ===\ntrain loss:2.2523791185347295\ntrain loss:2.2236841471586173\ntrain loss:2.24036925520831\n"
     ]
    },
    {
     "name": "stdout",
     "output_type": "stream",
     "text": [
      "=== epoch:63, train acc:0.33666666666666667, test acc:0.274 ===\ntrain loss:2.2375512178726855\ntrain loss:2.228958814922949\ntrain loss:2.239346442929836\n"
     ]
    },
    {
     "name": "stdout",
     "output_type": "stream",
     "text": [
      "=== epoch:64, train acc:0.34, test acc:0.2752 ===\ntrain loss:2.2135171575573094\ntrain loss:2.2456160088351833\ntrain loss:2.2428086322511813\n"
     ]
    },
    {
     "name": "stdout",
     "output_type": "stream",
     "text": [
      "=== epoch:65, train acc:0.33666666666666667, test acc:0.2756 ===\ntrain loss:2.2377791316400293\ntrain loss:2.228252444406593\ntrain loss:2.226763425325421\n"
     ]
    },
    {
     "name": "stdout",
     "output_type": "stream",
     "text": [
      "=== epoch:66, train acc:0.33666666666666667, test acc:0.2761 ===\ntrain loss:2.221491288161995\ntrain loss:2.2048385573260694\ntrain loss:2.2310916353000136\n"
     ]
    },
    {
     "name": "stdout",
     "output_type": "stream",
     "text": [
      "=== epoch:67, train acc:0.33666666666666667, test acc:0.2775 ===\ntrain loss:2.2302548924871095\ntrain loss:2.2435372891040735\ntrain loss:2.254724772753513\n"
     ]
    },
    {
     "name": "stdout",
     "output_type": "stream",
     "text": [
      "=== epoch:68, train acc:0.33, test acc:0.2793 ===\ntrain loss:2.250069084037089\ntrain loss:2.246812799747816\ntrain loss:2.22935990714536\n"
     ]
    },
    {
     "name": "stdout",
     "output_type": "stream",
     "text": [
      "=== epoch:69, train acc:0.34, test acc:0.2808 ===\ntrain loss:2.2411378207308825\ntrain loss:2.2181474762233058\ntrain loss:2.2378185529144115\n"
     ]
    },
    {
     "name": "stdout",
     "output_type": "stream",
     "text": [
      "=== epoch:70, train acc:0.3333333333333333, test acc:0.2817 ===\ntrain loss:2.2239604048946555\ntrain loss:2.2468463657265225\ntrain loss:2.2287344999606624\n"
     ]
    },
    {
     "name": "stdout",
     "output_type": "stream",
     "text": [
      "=== epoch:71, train acc:0.33, test acc:0.2811 ===\ntrain loss:2.2592061331369218\ntrain loss:2.227807720062465\ntrain loss:2.227439062980339\n"
     ]
    },
    {
     "name": "stdout",
     "output_type": "stream",
     "text": [
      "=== epoch:72, train acc:0.33, test acc:0.2825 ===\ntrain loss:2.2284965129923466\ntrain loss:2.2223773445145643\ntrain loss:2.228752534299489\n"
     ]
    },
    {
     "name": "stdout",
     "output_type": "stream",
     "text": [
      "=== epoch:73, train acc:0.3333333333333333, test acc:0.2846 ===\ntrain loss:2.228092723004204\ntrain loss:2.235427258555689\ntrain loss:2.221558290344496\n"
     ]
    },
    {
     "name": "stdout",
     "output_type": "stream",
     "text": [
      "=== epoch:74, train acc:0.33, test acc:0.2844 ===\ntrain loss:2.2256670597380763\ntrain loss:2.207532121840035\ntrain loss:2.229207650503011\n"
     ]
    },
    {
     "name": "stdout",
     "output_type": "stream",
     "text": [
      "=== epoch:75, train acc:0.3233333333333333, test acc:0.2853 ===\ntrain loss:2.2053160767500746\ntrain loss:2.2094087712793105\ntrain loss:2.209456555689865\n"
     ]
    },
    {
     "name": "stdout",
     "output_type": "stream",
     "text": [
      "=== epoch:76, train acc:0.32666666666666666, test acc:0.2875 ===\ntrain loss:2.221250143571306\ntrain loss:2.2143578770661074\ntrain loss:2.2338177950093425\n"
     ]
    },
    {
     "name": "stdout",
     "output_type": "stream",
     "text": [
      "=== epoch:77, train acc:0.33666666666666667, test acc:0.2887 ===\ntrain loss:2.1908720785451776\ntrain loss:2.221169268576558\ntrain loss:2.2178341835154036\n"
     ]
    },
    {
     "name": "stdout",
     "output_type": "stream",
     "text": [
      "=== epoch:78, train acc:0.3433333333333333, test acc:0.2913 ===\ntrain loss:2.2214301022972633\ntrain loss:2.186829157431626\ntrain loss:2.2339685173427566\n"
     ]
    },
    {
     "name": "stdout",
     "output_type": "stream",
     "text": [
      "=== epoch:79, train acc:0.33666666666666667, test acc:0.2904 ===\ntrain loss:2.222545515478971\ntrain loss:2.237123138271067\ntrain loss:2.22619516052882\n"
     ]
    },
    {
     "name": "stdout",
     "output_type": "stream",
     "text": [
      "=== epoch:80, train acc:0.34, test acc:0.2918 ===\ntrain loss:2.2140818953297123\ntrain loss:2.1818744042565497\ntrain loss:2.2191374727052295\n"
     ]
    },
    {
     "name": "stdout",
     "output_type": "stream",
     "text": [
      "=== epoch:81, train acc:0.33666666666666667, test acc:0.2911 ===\ntrain loss:2.1984289923454376\ntrain loss:2.211144785665901\ntrain loss:2.2218688254031385\n"
     ]
    },
    {
     "name": "stdout",
     "output_type": "stream",
     "text": [
      "=== epoch:82, train acc:0.34, test acc:0.2938 ===\ntrain loss:2.216177656469493\ntrain loss:2.2059375376266335\ntrain loss:2.202167980513488\n"
     ]
    },
    {
     "name": "stdout",
     "output_type": "stream",
     "text": [
      "=== epoch:83, train acc:0.3466666666666667, test acc:0.2944 ===\ntrain loss:2.201590151733572\ntrain loss:2.216409047027902\ntrain loss:2.228670190942417\n"
     ]
    },
    {
     "name": "stdout",
     "output_type": "stream",
     "text": [
      "=== epoch:84, train acc:0.3466666666666667, test acc:0.2972 ===\ntrain loss:2.20076191409848\ntrain loss:2.208562111295552\ntrain loss:2.1985701840530867\n"
     ]
    },
    {
     "name": "stdout",
     "output_type": "stream",
     "text": [
      "=== epoch:85, train acc:0.3566666666666667, test acc:0.2996 ===\ntrain loss:2.1905355415433423\ntrain loss:2.2229860487479276\ntrain loss:2.1921326922007243\n"
     ]
    },
    {
     "name": "stdout",
     "output_type": "stream",
     "text": [
      "=== epoch:86, train acc:0.3566666666666667, test acc:0.3009 ===\ntrain loss:2.1858038685866314\ntrain loss:2.2121582069276116\ntrain loss:2.206311526245607\n"
     ]
    },
    {
     "name": "stdout",
     "output_type": "stream",
     "text": [
      "=== epoch:87, train acc:0.3566666666666667, test acc:0.3012 ===\ntrain loss:2.198039421597207\ntrain loss:2.2305484552262693\ntrain loss:2.205098706239207\n"
     ]
    },
    {
     "name": "stdout",
     "output_type": "stream",
     "text": [
      "=== epoch:88, train acc:0.36333333333333334, test acc:0.3056 ===\ntrain loss:2.1989158234369355\ntrain loss:2.203777925969864\ntrain loss:2.204966401634858\n"
     ]
    },
    {
     "name": "stdout",
     "output_type": "stream",
     "text": [
      "=== epoch:89, train acc:0.36333333333333334, test acc:0.3081 ===\ntrain loss:2.2262862296299017\ntrain loss:2.182988244630936\ntrain loss:2.228375386316816\n"
     ]
    },
    {
     "name": "stdout",
     "output_type": "stream",
     "text": [
      "=== epoch:90, train acc:0.37, test acc:0.3102 ===\ntrain loss:2.190255983182846\ntrain loss:2.189835065621648\ntrain loss:2.223416653524012\n"
     ]
    },
    {
     "name": "stdout",
     "output_type": "stream",
     "text": [
      "=== epoch:91, train acc:0.37333333333333335, test acc:0.3112 ===\ntrain loss:2.183213476453754\ntrain loss:2.2130771679068513\ntrain loss:2.1782329820178337\n"
     ]
    },
    {
     "name": "stdout",
     "output_type": "stream",
     "text": [
      "=== epoch:92, train acc:0.37666666666666665, test acc:0.3142 ===\ntrain loss:2.20350741251268\ntrain loss:2.2072696510232235\ntrain loss:2.213293102373696\n"
     ]
    },
    {
     "name": "stdout",
     "output_type": "stream",
     "text": [
      "=== epoch:93, train acc:0.38666666666666666, test acc:0.316 ===\ntrain loss:2.1776300692794774\ntrain loss:2.1826127354091387\ntrain loss:2.1927394718793916\n"
     ]
    },
    {
     "name": "stdout",
     "output_type": "stream",
     "text": [
      "=== epoch:94, train acc:0.38, test acc:0.3171 ===\ntrain loss:2.217511833602029\ntrain loss:2.1783938840855392\ntrain loss:2.2064542651919123\n"
     ]
    },
    {
     "name": "stdout",
     "output_type": "stream",
     "text": [
      "=== epoch:95, train acc:0.38, test acc:0.317 ===\ntrain loss:2.2007323240324537\ntrain loss:2.1938865671541494\ntrain loss:2.200917705459384\n"
     ]
    },
    {
     "name": "stdout",
     "output_type": "stream",
     "text": [
      "=== epoch:96, train acc:0.38333333333333336, test acc:0.3184 ===\ntrain loss:2.1900291360670887\ntrain loss:2.1992447286295107\ntrain loss:2.1945038279686373\n"
     ]
    },
    {
     "name": "stdout",
     "output_type": "stream",
     "text": [
      "=== epoch:97, train acc:0.37666666666666665, test acc:0.3183 ===\ntrain loss:2.1712837941784016\ntrain loss:2.2140715003046982\ntrain loss:2.191440136603432\n"
     ]
    },
    {
     "name": "stdout",
     "output_type": "stream",
     "text": [
      "=== epoch:98, train acc:0.38666666666666666, test acc:0.3197 ===\ntrain loss:2.1885936998629454\ntrain loss:2.1609616188698926\ntrain loss:2.202404685212538\n"
     ]
    },
    {
     "name": "stdout",
     "output_type": "stream",
     "text": [
      "=== epoch:99, train acc:0.3933333333333333, test acc:0.3219 ===\ntrain loss:2.1374172899156374\ntrain loss:2.1656020763851376\ntrain loss:2.1921149661022516\n"
     ]
    },
    {
     "name": "stdout",
     "output_type": "stream",
     "text": [
      "=== epoch:100, train acc:0.38333333333333336, test acc:0.3222 ===\ntrain loss:2.1997482556997103\ntrain loss:2.200111776800552\ntrain loss:2.1744493635630073\n"
     ]
    },
    {
     "name": "stdout",
     "output_type": "stream",
     "text": [
      "=== epoch:101, train acc:0.38333333333333336, test acc:0.322 ===\ntrain loss:2.1635294762422648\ntrain loss:2.1946871572826545\ntrain loss:2.1655139843625135\n"
     ]
    },
    {
     "name": "stdout",
     "output_type": "stream",
     "text": [
      "=== epoch:102, train acc:0.39, test acc:0.3241 ===\ntrain loss:2.1478252500994865\ntrain loss:2.189971038856239\ntrain loss:2.1881846585450826\n"
     ]
    },
    {
     "name": "stdout",
     "output_type": "stream",
     "text": [
      "=== epoch:103, train acc:0.39, test acc:0.3268 ===\ntrain loss:2.154662670079814\ntrain loss:2.179508082366242\ntrain loss:2.154119453670535\n"
     ]
    },
    {
     "name": "stdout",
     "output_type": "stream",
     "text": [
      "=== epoch:104, train acc:0.38666666666666666, test acc:0.324 ===\ntrain loss:2.1805274931523555\ntrain loss:2.1592799536144653\ntrain loss:2.1837509617052913\n"
     ]
    },
    {
     "name": "stdout",
     "output_type": "stream",
     "text": [
      "=== epoch:105, train acc:0.38666666666666666, test acc:0.3249 ===\ntrain loss:2.1786254555739166\ntrain loss:2.169269261084827\ntrain loss:2.2014947492395858\n"
     ]
    },
    {
     "name": "stdout",
     "output_type": "stream",
     "text": [
      "=== epoch:106, train acc:0.39, test acc:0.3262 ===\ntrain loss:2.1557604250172018\ntrain loss:2.185457900719774\ntrain loss:2.1731428025889583\n"
     ]
    },
    {
     "name": "stdout",
     "output_type": "stream",
     "text": [
      "=== epoch:107, train acc:0.38666666666666666, test acc:0.3258 ===\ntrain loss:2.157125393363021\ntrain loss:2.162204683933925\ntrain loss:2.1363349000792464\n"
     ]
    },
    {
     "name": "stdout",
     "output_type": "stream",
     "text": [
      "=== epoch:108, train acc:0.39, test acc:0.3276 ===\ntrain loss:2.1508844997935506\ntrain loss:2.166767518103201\ntrain loss:2.1596981475309125\n"
     ]
    },
    {
     "name": "stdout",
     "output_type": "stream",
     "text": [
      "=== epoch:109, train acc:0.39666666666666667, test acc:0.33 ===\ntrain loss:2.167156191261619\ntrain loss:2.152598369254305\ntrain loss:2.1755235346230575\n"
     ]
    },
    {
     "name": "stdout",
     "output_type": "stream",
     "text": [
      "=== epoch:110, train acc:0.4, test acc:0.3308 ===\ntrain loss:2.1522656618981824\ntrain loss:2.1507593616217315\ntrain loss:2.147497066683037\n"
     ]
    },
    {
     "name": "stdout",
     "output_type": "stream",
     "text": [
      "=== epoch:111, train acc:0.3933333333333333, test acc:0.3297 ===\ntrain loss:2.17832026854442\ntrain loss:2.119930881926464\ntrain loss:2.159128904870778\n"
     ]
    },
    {
     "name": "stdout",
     "output_type": "stream",
     "text": [
      "=== epoch:112, train acc:0.4, test acc:0.3314 ===\ntrain loss:2.163593263611411\ntrain loss:2.1550857501177583\ntrain loss:2.135484085485772\n"
     ]
    },
    {
     "name": "stdout",
     "output_type": "stream",
     "text": [
      "=== epoch:113, train acc:0.4, test acc:0.332 ===\ntrain loss:2.1674908458263378\ntrain loss:2.113750293187967\ntrain loss:2.179978198231313\n"
     ]
    },
    {
     "name": "stdout",
     "output_type": "stream",
     "text": [
      "=== epoch:114, train acc:0.4, test acc:0.3336 ===\ntrain loss:2.1805061861374035\ntrain loss:2.174984658682497\ntrain loss:2.1743021558468674\n"
     ]
    },
    {
     "name": "stdout",
     "output_type": "stream",
     "text": [
      "=== epoch:115, train acc:0.4, test acc:0.3358 ===\ntrain loss:2.166593810113279\ntrain loss:2.1340988416262623\ntrain loss:2.1468538552300616\n"
     ]
    },
    {
     "name": "stdout",
     "output_type": "stream",
     "text": [
      "=== epoch:116, train acc:0.4066666666666667, test acc:0.3376 ===\ntrain loss:2.168860697104689\ntrain loss:2.1272923615979904\ntrain loss:2.1742316023069064\n"
     ]
    },
    {
     "name": "stdout",
     "output_type": "stream",
     "text": [
      "=== epoch:117, train acc:0.4066666666666667, test acc:0.3375 ===\ntrain loss:2.1698549538779606\ntrain loss:2.1521136105297702\ntrain loss:2.115642644393248\n"
     ]
    },
    {
     "name": "stdout",
     "output_type": "stream",
     "text": [
      "=== epoch:118, train acc:0.4066666666666667, test acc:0.3378 ===\ntrain loss:2.1401637629646575\ntrain loss:2.112729707667625\ntrain loss:2.1587657422195274\n"
     ]
    },
    {
     "name": "stdout",
     "output_type": "stream",
     "text": [
      "=== epoch:119, train acc:0.41333333333333333, test acc:0.3396 ===\ntrain loss:2.1198457580283874\ntrain loss:2.1543233371300636\ntrain loss:2.124154202413275\n"
     ]
    },
    {
     "name": "stdout",
     "output_type": "stream",
     "text": [
      "=== epoch:120, train acc:0.4066666666666667, test acc:0.3425 ===\ntrain loss:2.171517064628361\ntrain loss:2.1026253481416406\ntrain loss:2.1113537255410435\n"
     ]
    },
    {
     "name": "stdout",
     "output_type": "stream",
     "text": [
      "=== epoch:121, train acc:0.41, test acc:0.3436 ===\ntrain loss:2.107468173770187\ntrain loss:2.1313704626165006\ntrain loss:2.150628082827997\n"
     ]
    },
    {
     "name": "stdout",
     "output_type": "stream",
     "text": [
      "=== epoch:122, train acc:0.41, test acc:0.3449 ===\ntrain loss:2.1317488131389637\ntrain loss:2.1360476990042843\ntrain loss:2.1590463188906934\n"
     ]
    },
    {
     "name": "stdout",
     "output_type": "stream",
     "text": [
      "=== epoch:123, train acc:0.41, test acc:0.3462 ===\ntrain loss:2.0715292733463557\ntrain loss:2.140665081611339\ntrain loss:2.0617556488838384\n"
     ]
    },
    {
     "name": "stdout",
     "output_type": "stream",
     "text": [
      "=== epoch:124, train acc:0.4166666666666667, test acc:0.3459 ===\ntrain loss:2.1019618385039855\ntrain loss:2.1177405805567813\ntrain loss:2.143681453456431\n"
     ]
    },
    {
     "name": "stdout",
     "output_type": "stream",
     "text": [
      "=== epoch:125, train acc:0.42333333333333334, test acc:0.3461 ===\ntrain loss:2.1672845322600263\ntrain loss:2.0848264681066224\ntrain loss:2.1154661175082534\n"
     ]
    },
    {
     "name": "stdout",
     "output_type": "stream",
     "text": [
      "=== epoch:126, train acc:0.42333333333333334, test acc:0.3479 ===\ntrain loss:2.1113875011282417\ntrain loss:2.108558429326772\ntrain loss:2.1302135810261\n"
     ]
    },
    {
     "name": "stdout",
     "output_type": "stream",
     "text": [
      "=== epoch:127, train acc:0.4266666666666667, test acc:0.3471 ===\ntrain loss:2.1351650378501765\ntrain loss:2.104247597976218\ntrain loss:2.1194772008304033\n"
     ]
    },
    {
     "name": "stdout",
     "output_type": "stream",
     "text": [
      "=== epoch:128, train acc:0.43, test acc:0.35 ===\ntrain loss:2.1395435133567124\ntrain loss:2.059809924747909\ntrain loss:2.126748725488138\n"
     ]
    },
    {
     "name": "stdout",
     "output_type": "stream",
     "text": [
      "=== epoch:129, train acc:0.42333333333333334, test acc:0.3494 ===\ntrain loss:2.085575547874183\ntrain loss:2.093965109084102\ntrain loss:2.141502528199856\n"
     ]
    },
    {
     "name": "stdout",
     "output_type": "stream",
     "text": [
      "=== epoch:130, train acc:0.4266666666666667, test acc:0.3509 ===\ntrain loss:2.1349422159428646\ntrain loss:2.1039757340558256\ntrain loss:2.1282745122527986\n"
     ]
    },
    {
     "name": "stdout",
     "output_type": "stream",
     "text": [
      "=== epoch:131, train acc:0.43333333333333335, test acc:0.3509 ===\ntrain loss:2.0859406348171596\ntrain loss:2.105957008584079\ntrain loss:2.077906677971132\n"
     ]
    },
    {
     "name": "stdout",
     "output_type": "stream",
     "text": [
      "=== epoch:132, train acc:0.42333333333333334, test acc:0.3542 ===\ntrain loss:2.1460297345186135\ntrain loss:2.044198706055696\ntrain loss:2.031335838887663\n"
     ]
    },
    {
     "name": "stdout",
     "output_type": "stream",
     "text": [
      "=== epoch:133, train acc:0.43, test acc:0.3536 ===\ntrain loss:2.0796235045733287\ntrain loss:2.131781951128437\ntrain loss:2.102254744733361\n"
     ]
    },
    {
     "name": "stdout",
     "output_type": "stream",
     "text": [
      "=== epoch:134, train acc:0.43, test acc:0.3554 ===\ntrain loss:2.0635603534328535\ntrain loss:2.0715478640152614\ntrain loss:2.1090337256054554\n"
     ]
    },
    {
     "name": "stdout",
     "output_type": "stream",
     "text": [
      "=== epoch:135, train acc:0.42333333333333334, test acc:0.3564 ===\ntrain loss:2.086200126811125\ntrain loss:2.1267574436250256\ntrain loss:2.069696640011729\n"
     ]
    },
    {
     "name": "stdout",
     "output_type": "stream",
     "text": [
      "=== epoch:136, train acc:0.42333333333333334, test acc:0.3569 ===\ntrain loss:2.090774427073529\ntrain loss:2.100512044251752\ntrain loss:2.086865589086656\n"
     ]
    },
    {
     "name": "stdout",
     "output_type": "stream",
     "text": [
      "=== epoch:137, train acc:0.42333333333333334, test acc:0.3585 ===\ntrain loss:2.1129814139111227\ntrain loss:2.0377725924143264\ntrain loss:2.1020546797039827\n"
     ]
    },
    {
     "name": "stdout",
     "output_type": "stream",
     "text": [
      "=== epoch:138, train acc:0.42333333333333334, test acc:0.3577 ===\ntrain loss:2.079978390288495\ntrain loss:2.084137906286288\ntrain loss:2.1606925704962787\n"
     ]
    },
    {
     "name": "stdout",
     "output_type": "stream",
     "text": [
      "=== epoch:139, train acc:0.43666666666666665, test acc:0.3603 ===\ntrain loss:2.042183528682302\ntrain loss:2.0897680406198558\ntrain loss:2.0397020096510783\n"
     ]
    },
    {
     "name": "stdout",
     "output_type": "stream",
     "text": [
      "=== epoch:140, train acc:0.43333333333333335, test acc:0.3615 ===\ntrain loss:2.080975697123798\ntrain loss:2.0863123103626497\ntrain loss:2.139643022271406\n"
     ]
    },
    {
     "name": "stdout",
     "output_type": "stream",
     "text": [
      "=== epoch:141, train acc:0.43333333333333335, test acc:0.3627 ===\ntrain loss:2.057301545787148\ntrain loss:2.0978859366463123\ntrain loss:2.0380012064195996\n"
     ]
    },
    {
     "name": "stdout",
     "output_type": "stream",
     "text": [
      "=== epoch:142, train acc:0.43666666666666665, test acc:0.3639 ===\ntrain loss:2.0605125304417404\ntrain loss:2.0065334209120187\ntrain loss:2.056406471932149\n"
     ]
    },
    {
     "name": "stdout",
     "output_type": "stream",
     "text": [
      "=== epoch:143, train acc:0.43666666666666665, test acc:0.3648 ===\ntrain loss:2.073098271165701\ntrain loss:2.078837032565078\ntrain loss:2.0456819391299215\n"
     ]
    },
    {
     "name": "stdout",
     "output_type": "stream",
     "text": [
      "=== epoch:144, train acc:0.44333333333333336, test acc:0.3664 ===\ntrain loss:2.052780445724504\ntrain loss:2.0948217014846944\ntrain loss:2.068932874564371\n"
     ]
    },
    {
     "name": "stdout",
     "output_type": "stream",
     "text": [
      "=== epoch:145, train acc:0.44666666666666666, test acc:0.3673 ===\ntrain loss:2.0514777976730927\ntrain loss:2.0435798301949415\ntrain loss:2.037223160267462\n"
     ]
    },
    {
     "name": "stdout",
     "output_type": "stream",
     "text": [
      "=== epoch:146, train acc:0.44333333333333336, test acc:0.3667 ===\ntrain loss:2.0672819971818384\ntrain loss:2.0711094609444243\ntrain loss:1.9793429462260597\n"
     ]
    },
    {
     "name": "stdout",
     "output_type": "stream",
     "text": [
      "=== epoch:147, train acc:0.44666666666666666, test acc:0.3653 ===\ntrain loss:1.9864453748633537\ntrain loss:1.9581756725897717\ntrain loss:2.0222442947225305\n"
     ]
    },
    {
     "name": "stdout",
     "output_type": "stream",
     "text": [
      "=== epoch:148, train acc:0.43666666666666665, test acc:0.3653 ===\ntrain loss:1.967624835776914\ntrain loss:1.998113877551373\ntrain loss:2.0113841582998386\n"
     ]
    },
    {
     "name": "stdout",
     "output_type": "stream",
     "text": [
      "=== epoch:149, train acc:0.43, test acc:0.3634 ===\ntrain loss:2.011541090638844\ntrain loss:2.0100733169207485\ntrain loss:1.9693608602701658\n"
     ]
    },
    {
     "name": "stdout",
     "output_type": "stream",
     "text": [
      "=== epoch:150, train acc:0.43, test acc:0.3645 ===\ntrain loss:1.98853208830687\ntrain loss:2.004251606173817\ntrain loss:1.9561628864437994\n"
     ]
    },
    {
     "name": "stdout",
     "output_type": "stream",
     "text": [
      "=== epoch:151, train acc:0.4266666666666667, test acc:0.3655 ===\ntrain loss:2.035181207982049\ntrain loss:2.0479217119165063\ntrain loss:2.0563178539933737\n"
     ]
    },
    {
     "name": "stdout",
     "output_type": "stream",
     "text": [
      "=== epoch:152, train acc:0.4266666666666667, test acc:0.3632 ===\ntrain loss:2.0734546722605014\ntrain loss:2.0255734823932197\ntrain loss:1.9446282121346992\n"
     ]
    },
    {
     "name": "stdout",
     "output_type": "stream",
     "text": [
      "=== epoch:153, train acc:0.43, test acc:0.3655 ===\ntrain loss:2.041970059483481\ntrain loss:2.022526035370585\ntrain loss:1.9650796640032875\n"
     ]
    },
    {
     "name": "stdout",
     "output_type": "stream",
     "text": [
      "=== epoch:154, train acc:0.43, test acc:0.3653 ===\ntrain loss:1.8792130394828055\ntrain loss:2.0287189217331565\ntrain loss:2.0904775928228103\n"
     ]
    },
    {
     "name": "stdout",
     "output_type": "stream",
     "text": [
      "=== epoch:155, train acc:0.44, test acc:0.3678 ===\ntrain loss:1.9500751736785618\ntrain loss:1.9807144271827368\ntrain loss:2.02509183738358\n"
     ]
    },
    {
     "name": "stdout",
     "output_type": "stream",
     "text": [
      "=== epoch:156, train acc:0.44, test acc:0.3679 ===\ntrain loss:1.931502621692091\ntrain loss:2.0140061465353476\ntrain loss:2.0773927386699067\n"
     ]
    },
    {
     "name": "stdout",
     "output_type": "stream",
     "text": [
      "=== epoch:157, train acc:0.44, test acc:0.3692 ===\ntrain loss:2.06030869429774\ntrain loss:2.010320815120434\ntrain loss:1.994617608904805\n"
     ]
    },
    {
     "name": "stdout",
     "output_type": "stream",
     "text": [
      "=== epoch:158, train acc:0.44333333333333336, test acc:0.3717 ===\ntrain loss:2.0254365350993604\ntrain loss:1.9894754565882613\ntrain loss:2.0152871766814373\n"
     ]
    },
    {
     "name": "stdout",
     "output_type": "stream",
     "text": [
      "=== epoch:159, train acc:0.44, test acc:0.3697 ===\ntrain loss:2.0320586436942434\ntrain loss:2.014566552550445\ntrain loss:2.0232055552833996\n"
     ]
    },
    {
     "name": "stdout",
     "output_type": "stream",
     "text": [
      "=== epoch:160, train acc:0.44, test acc:0.3708 ===\ntrain loss:2.069721364456636\ntrain loss:2.010865384882189\ntrain loss:1.925620614554658\n"
     ]
    },
    {
     "name": "stdout",
     "output_type": "stream",
     "text": [
      "=== epoch:161, train acc:0.44333333333333336, test acc:0.3721 ===\ntrain loss:1.9898309200558066\ntrain loss:1.9989830093352474\ntrain loss:2.01422462137437\n"
     ]
    },
    {
     "name": "stdout",
     "output_type": "stream",
     "text": [
      "=== epoch:162, train acc:0.43666666666666665, test acc:0.3746 ===\ntrain loss:1.9953878024149139\ntrain loss:2.0138368320362403\ntrain loss:1.9745937727655538\n"
     ]
    },
    {
     "name": "stdout",
     "output_type": "stream",
     "text": [
      "=== epoch:163, train acc:0.44666666666666666, test acc:0.3777 ===\ntrain loss:1.975108405907362\ntrain loss:1.9632874120498247\ntrain loss:1.896598530590902\n"
     ]
    },
    {
     "name": "stdout",
     "output_type": "stream",
     "text": [
      "=== epoch:164, train acc:0.44666666666666666, test acc:0.3769 ===\ntrain loss:1.90253644048584\ntrain loss:1.9127103098685865\ntrain loss:1.9898444866876608\n"
     ]
    },
    {
     "name": "stdout",
     "output_type": "stream",
     "text": [
      "=== epoch:165, train acc:0.44333333333333336, test acc:0.3753 ===\ntrain loss:1.9634718301836462\ntrain loss:1.9300282870067071\ntrain loss:1.9922065887236444\n"
     ]
    },
    {
     "name": "stdout",
     "output_type": "stream",
     "text": [
      "=== epoch:166, train acc:0.44, test acc:0.3776 ===\ntrain loss:2.0159122212447853\ntrain loss:2.0335464146507536\ntrain loss:1.9782234469619728\n"
     ]
    },
    {
     "name": "stdout",
     "output_type": "stream",
     "text": [
      "=== epoch:167, train acc:0.4533333333333333, test acc:0.3811 ===\ntrain loss:1.9560457224700796\ntrain loss:1.8566499042645548\ntrain loss:1.9204678081313147\n"
     ]
    },
    {
     "name": "stdout",
     "output_type": "stream",
     "text": [
      "=== epoch:168, train acc:0.4533333333333333, test acc:0.3798 ===\ntrain loss:1.9574413652949665\ntrain loss:1.9600686498845814\ntrain loss:1.8957390431155532\n"
     ]
    },
    {
     "name": "stdout",
     "output_type": "stream",
     "text": [
      "=== epoch:169, train acc:0.45666666666666667, test acc:0.3802 ===\ntrain loss:1.918000757309771\ntrain loss:1.9859044968497497\ntrain loss:1.9191655861910102\n"
     ]
    },
    {
     "name": "stdout",
     "output_type": "stream",
     "text": [
      "=== epoch:170, train acc:0.45666666666666667, test acc:0.3803 ===\ntrain loss:1.9172514137540355\ntrain loss:1.9531095997973569\ntrain loss:1.923468189759309\n"
     ]
    },
    {
     "name": "stdout",
     "output_type": "stream",
     "text": [
      "=== epoch:171, train acc:0.45, test acc:0.3796 ===\ntrain loss:1.9383658875450334\ntrain loss:1.9925951722141964\ntrain loss:1.9307002273536988\n"
     ]
    },
    {
     "name": "stdout",
     "output_type": "stream",
     "text": [
      "=== epoch:172, train acc:0.45, test acc:0.3821 ===\ntrain loss:1.8733946529413206\ntrain loss:1.9918903743866727\ntrain loss:1.93066219265213\n"
     ]
    },
    {
     "name": "stdout",
     "output_type": "stream",
     "text": [
      "=== epoch:173, train acc:0.4533333333333333, test acc:0.3817 ===\ntrain loss:1.8588539811206741\ntrain loss:1.9514242479490858\ntrain loss:1.9658283308654934\n"
     ]
    },
    {
     "name": "stdout",
     "output_type": "stream",
     "text": [
      "=== epoch:174, train acc:0.45666666666666667, test acc:0.3826 ===\ntrain loss:1.9424782312375326\ntrain loss:1.8878720297721774\ntrain loss:1.8443082729945683\n"
     ]
    },
    {
     "name": "stdout",
     "output_type": "stream",
     "text": [
      "=== epoch:175, train acc:0.4533333333333333, test acc:0.3831 ===\ntrain loss:1.8935880131960423\ntrain loss:1.889269823192847\ntrain loss:1.8349834859120802\n"
     ]
    },
    {
     "name": "stdout",
     "output_type": "stream",
     "text": [
      "=== epoch:176, train acc:0.45666666666666667, test acc:0.3855 ===\ntrain loss:1.9279227106834862\ntrain loss:1.891441095132737\ntrain loss:1.9006204494035808\n"
     ]
    },
    {
     "name": "stdout",
     "output_type": "stream",
     "text": [
      "=== epoch:177, train acc:0.45666666666666667, test acc:0.3862 ===\ntrain loss:1.8914419089416037\ntrain loss:1.8969956277702777\ntrain loss:1.9034614606902762\n"
     ]
    },
    {
     "name": "stdout",
     "output_type": "stream",
     "text": [
      "=== epoch:178, train acc:0.45666666666666667, test acc:0.3876 ===\ntrain loss:1.938444244354155\ntrain loss:1.8639339075156796\ntrain loss:1.9040842267161835\n"
     ]
    },
    {
     "name": "stdout",
     "output_type": "stream",
     "text": [
      "=== epoch:179, train acc:0.46, test acc:0.3895 ===\ntrain loss:1.94989139971746\ntrain loss:1.8519139234133561\ntrain loss:1.847533348355656\n"
     ]
    },
    {
     "name": "stdout",
     "output_type": "stream",
     "text": [
      "=== epoch:180, train acc:0.4666666666666667, test acc:0.388 ===\ntrain loss:1.8824947687776403\ntrain loss:1.8357806139685067\ntrain loss:1.8471441285601131\n"
     ]
    },
    {
     "name": "stdout",
     "output_type": "stream",
     "text": [
      "=== epoch:181, train acc:0.47333333333333333, test acc:0.388 ===\ntrain loss:1.862120412647411\ntrain loss:1.8823286314549514\ntrain loss:1.8468804068161615\n"
     ]
    },
    {
     "name": "stdout",
     "output_type": "stream",
     "text": [
      "=== epoch:182, train acc:0.4766666666666667, test acc:0.3912 ===\ntrain loss:1.8544331207715055\ntrain loss:1.8677378494662034\ntrain loss:1.921710753535629\n"
     ]
    },
    {
     "name": "stdout",
     "output_type": "stream",
     "text": [
      "=== epoch:183, train acc:0.48, test acc:0.3932 ===\ntrain loss:1.8231089172896338\ntrain loss:1.8755240276513243\ntrain loss:1.9587511745678718\n"
     ]
    },
    {
     "name": "stdout",
     "output_type": "stream",
     "text": [
      "=== epoch:184, train acc:0.48, test acc:0.3954 ===\ntrain loss:1.7767062938241227\ntrain loss:1.7609153053671265\ntrain loss:1.8345554040547056\n"
     ]
    },
    {
     "name": "stdout",
     "output_type": "stream",
     "text": [
      "=== epoch:185, train acc:0.47333333333333333, test acc:0.3929 ===\ntrain loss:1.8333265926351197\ntrain loss:1.8250336995228817\ntrain loss:1.7815328718883716\n"
     ]
    },
    {
     "name": "stdout",
     "output_type": "stream",
     "text": [
      "=== epoch:186, train acc:0.4766666666666667, test acc:0.394 ===\ntrain loss:1.771858251343324\ntrain loss:1.8971655292176604\ntrain loss:1.8596717363733675\n"
     ]
    },
    {
     "name": "stdout",
     "output_type": "stream",
     "text": [
      "=== epoch:187, train acc:0.48, test acc:0.3955 ===\ntrain loss:1.8335623216289734\ntrain loss:1.8473792045311757\ntrain loss:1.7999231777768785\n"
     ]
    },
    {
     "name": "stdout",
     "output_type": "stream",
     "text": [
      "=== epoch:188, train acc:0.48, test acc:0.3965 ===\ntrain loss:1.8076701644639914\ntrain loss:1.8273765483680515\ntrain loss:1.852979120767348\n"
     ]
    },
    {
     "name": "stdout",
     "output_type": "stream",
     "text": [
      "=== epoch:189, train acc:0.47333333333333333, test acc:0.396 ===\ntrain loss:1.823496364521343\ntrain loss:1.6894326127250066\ntrain loss:1.8182014786196126\n"
     ]
    },
    {
     "name": "stdout",
     "output_type": "stream",
     "text": [
      "=== epoch:190, train acc:0.4766666666666667, test acc:0.3957 ===\ntrain loss:1.7882084664190827\ntrain loss:1.7558591371969887\ntrain loss:1.6850644488111164\n"
     ]
    },
    {
     "name": "stdout",
     "output_type": "stream",
     "text": [
      "=== epoch:191, train acc:0.48, test acc:0.3966 ===\ntrain loss:1.7627628377121585\ntrain loss:1.7976999505942262\ntrain loss:1.889270644403224\n"
     ]
    },
    {
     "name": "stdout",
     "output_type": "stream",
     "text": [
      "=== epoch:192, train acc:0.4766666666666667, test acc:0.3973 ===\ntrain loss:1.7420447559601906\ntrain loss:1.7049971729126867\ntrain loss:1.7611654858307206\n"
     ]
    },
    {
     "name": "stdout",
     "output_type": "stream",
     "text": [
      "=== epoch:193, train acc:0.4766666666666667, test acc:0.3955 ===\ntrain loss:1.7857307442751096\ntrain loss:1.810445858464246\ntrain loss:1.8056908849238735\n"
     ]
    },
    {
     "name": "stdout",
     "output_type": "stream",
     "text": [
      "=== epoch:194, train acc:0.48, test acc:0.3979 ===\ntrain loss:1.7932884766451551\ntrain loss:1.7837504435448093\ntrain loss:1.8314031822650427\n"
     ]
    },
    {
     "name": "stdout",
     "output_type": "stream",
     "text": [
      "=== epoch:195, train acc:0.48333333333333334, test acc:0.3988 ===\ntrain loss:1.816946087412006\ntrain loss:1.8162280617654154\ntrain loss:1.7327330316977787\n"
     ]
    },
    {
     "name": "stdout",
     "output_type": "stream",
     "text": [
      "=== epoch:196, train acc:0.49, test acc:0.3991 ===\ntrain loss:1.824607721757354\ntrain loss:1.8773400108567235\ntrain loss:1.7659985917958887\n"
     ]
    },
    {
     "name": "stdout",
     "output_type": "stream",
     "text": [
      "=== epoch:197, train acc:0.49, test acc:0.4006 ===\ntrain loss:1.7381445647389273\ntrain loss:1.7328072557463634\ntrain loss:1.7866451683784803\n"
     ]
    },
    {
     "name": "stdout",
     "output_type": "stream",
     "text": [
      "=== epoch:198, train acc:0.48333333333333334, test acc:0.3997 ===\ntrain loss:1.8152606486748146\ntrain loss:1.7474568577646274\ntrain loss:1.7923653359321048\n"
     ]
    },
    {
     "name": "stdout",
     "output_type": "stream",
     "text": [
      "=== epoch:199, train acc:0.48333333333333334, test acc:0.4 ===\ntrain loss:1.6215707806165525\ntrain loss:1.691700891582808\ntrain loss:1.81668297663948\n"
     ]
    },
    {
     "name": "stdout",
     "output_type": "stream",
     "text": [
      "=== epoch:200, train acc:0.49333333333333335, test acc:0.401 ===\ntrain loss:1.6977135977059805\ntrain loss:1.8179491131184973\ntrain loss:1.7267988167772361\n"
     ]
    },
    {
     "name": "stdout",
     "output_type": "stream",
     "text": [
      "=== epoch:201, train acc:0.49, test acc:0.4013 ===\ntrain loss:1.7274702545492084\ntrain loss:1.7317257371327053\ntrain loss:1.6898939201640673\n"
     ]
    },
    {
     "name": "stdout",
     "output_type": "stream",
     "text": [
      "=== epoch:202, train acc:0.48, test acc:0.3992 ===\ntrain loss:1.70844334848969\ntrain loss:1.637475595100614\ntrain loss:1.8055342081275523\n"
     ]
    },
    {
     "name": "stdout",
     "output_type": "stream",
     "text": [
      "=== epoch:203, train acc:0.4866666666666667, test acc:0.4013 ===\ntrain loss:1.7148884159664224\ntrain loss:1.7634278181872154\ntrain loss:1.754658050670963\n"
     ]
    },
    {
     "name": "stdout",
     "output_type": "stream",
     "text": [
      "=== epoch:204, train acc:0.49, test acc:0.4001 ===\ntrain loss:1.700561301768059\ntrain loss:1.6140181126720137\ntrain loss:1.705409491792754\n"
     ]
    },
    {
     "name": "stdout",
     "output_type": "stream",
     "text": [
      "=== epoch:205, train acc:0.49, test acc:0.397 ===\ntrain loss:1.7429984679934518\ntrain loss:1.7599132095491905\ntrain loss:1.7091494066903274\n"
     ]
    },
    {
     "name": "stdout",
     "output_type": "stream",
     "text": [
      "=== epoch:206, train acc:0.49666666666666665, test acc:0.3964 ===\ntrain loss:1.650462403362512\ntrain loss:1.7559091281524783\ntrain loss:1.6813260552952969\n"
     ]
    },
    {
     "name": "stdout",
     "output_type": "stream",
     "text": [
      "=== epoch:207, train acc:0.5, test acc:0.4007 ===\ntrain loss:1.64447098060874\ntrain loss:1.6954972666395784\ntrain loss:1.5761412428710841\n"
     ]
    },
    {
     "name": "stdout",
     "output_type": "stream",
     "text": [
      "=== epoch:208, train acc:0.49666666666666665, test acc:0.4017 ===\ntrain loss:1.7314906566739676\ntrain loss:1.640030239357681\ntrain loss:1.7092930890821183\n"
     ]
    },
    {
     "name": "stdout",
     "output_type": "stream",
     "text": [
      "=== epoch:209, train acc:0.49, test acc:0.4071 ===\ntrain loss:1.7684108729840446\ntrain loss:1.6873382493981706\ntrain loss:1.7392657181303108\n"
     ]
    },
    {
     "name": "stdout",
     "output_type": "stream",
     "text": [
      "=== epoch:210, train acc:0.49333333333333335, test acc:0.41 ===\ntrain loss:1.6157727964392832\ntrain loss:1.595272351549674\ntrain loss:1.72719137319426\n"
     ]
    },
    {
     "name": "stdout",
     "output_type": "stream",
     "text": [
      "=== epoch:211, train acc:0.5, test acc:0.4122 ===\ntrain loss:1.7076810566926972\ntrain loss:1.6159113409970294\ntrain loss:1.7641708216375038\n"
     ]
    },
    {
     "name": "stdout",
     "output_type": "stream",
     "text": [
      "=== epoch:212, train acc:0.49666666666666665, test acc:0.4133 ===\ntrain loss:1.681838690127814\ntrain loss:1.5463419171614534\ntrain loss:1.5834254043723575\n"
     ]
    },
    {
     "name": "stdout",
     "output_type": "stream",
     "text": [
      "=== epoch:213, train acc:0.49666666666666665, test acc:0.4105 ===\ntrain loss:1.6769248226526952\ntrain loss:1.6058511981416805\ntrain loss:1.6558572062882317\n"
     ]
    },
    {
     "name": "stdout",
     "output_type": "stream",
     "text": [
      "=== epoch:214, train acc:0.49666666666666665, test acc:0.4099 ===\ntrain loss:1.6349371223350255\ntrain loss:1.6305070291528743\ntrain loss:1.6915485588232786\n"
     ]
    },
    {
     "name": "stdout",
     "output_type": "stream",
     "text": [
      "=== epoch:215, train acc:0.5033333333333333, test acc:0.4077 ===\ntrain loss:1.6297962993823847\ntrain loss:1.573754990586641\ntrain loss:1.7403781762482546\n"
     ]
    },
    {
     "name": "stdout",
     "output_type": "stream",
     "text": [
      "=== epoch:216, train acc:0.5066666666666667, test acc:0.4077 ===\ntrain loss:1.7062580724859584\ntrain loss:1.541198844239059\ntrain loss:1.616261095501309\n"
     ]
    },
    {
     "name": "stdout",
     "output_type": "stream",
     "text": [
      "=== epoch:217, train acc:0.5066666666666667, test acc:0.4123 ===\ntrain loss:1.653454600155729\ntrain loss:1.5303434084059493\ntrain loss:1.5695109441217512\n"
     ]
    },
    {
     "name": "stdout",
     "output_type": "stream",
     "text": [
      "=== epoch:218, train acc:0.5033333333333333, test acc:0.4135 ===\ntrain loss:1.6294275086883878\ntrain loss:1.4667141578861222\ntrain loss:1.7117757545408998\n"
     ]
    },
    {
     "name": "stdout",
     "output_type": "stream",
     "text": [
      "=== epoch:219, train acc:0.5033333333333333, test acc:0.4155 ===\ntrain loss:1.4724756176917766\ntrain loss:1.584864437426858\ntrain loss:1.6735136523014829\n"
     ]
    },
    {
     "name": "stdout",
     "output_type": "stream",
     "text": [
      "=== epoch:220, train acc:0.5033333333333333, test acc:0.417 ===\ntrain loss:1.595709110907415\ntrain loss:1.584216516495079\ntrain loss:1.6468023916756298\n"
     ]
    },
    {
     "name": "stdout",
     "output_type": "stream",
     "text": [
      "=== epoch:221, train acc:0.5066666666666667, test acc:0.4157 ===\ntrain loss:1.5834596901300642\ntrain loss:1.5195940968513986\ntrain loss:1.5665644395610625\n"
     ]
    },
    {
     "name": "stdout",
     "output_type": "stream",
     "text": [
      "=== epoch:222, train acc:0.5133333333333333, test acc:0.4173 ===\ntrain loss:1.6284451419603556\ntrain loss:1.576918178169787\ntrain loss:1.5277617834384585\n"
     ]
    },
    {
     "name": "stdout",
     "output_type": "stream",
     "text": [
      "=== epoch:223, train acc:0.5166666666666667, test acc:0.4198 ===\ntrain loss:1.5712542171851052\ntrain loss:1.6112920271927462\ntrain loss:1.708086712073095\n"
     ]
    },
    {
     "name": "stdout",
     "output_type": "stream",
     "text": [
      "=== epoch:224, train acc:0.5133333333333333, test acc:0.4209 ===\ntrain loss:1.6321117922085266\ntrain loss:1.5459799743790859\ntrain loss:1.4970843243280485\n"
     ]
    },
    {
     "name": "stdout",
     "output_type": "stream",
     "text": [
      "=== epoch:225, train acc:0.5166666666666667, test acc:0.4212 ===\ntrain loss:1.49985088992879\ntrain loss:1.5739107415894207\ntrain loss:1.5483859417131456\n"
     ]
    },
    {
     "name": "stdout",
     "output_type": "stream",
     "text": [
      "=== epoch:226, train acc:0.5233333333333333, test acc:0.4233 ===\ntrain loss:1.5398549619821182\ntrain loss:1.6529748934150024\ntrain loss:1.5842825913565495\n"
     ]
    },
    {
     "name": "stdout",
     "output_type": "stream",
     "text": [
      "=== epoch:227, train acc:0.5233333333333333, test acc:0.4254 ===\ntrain loss:1.454710162031757\ntrain loss:1.639358425357542\ntrain loss:1.6262346161390562\n"
     ]
    },
    {
     "name": "stdout",
     "output_type": "stream",
     "text": [
      "=== epoch:228, train acc:0.5166666666666667, test acc:0.4271 ===\ntrain loss:1.603845424915068\ntrain loss:1.4693240563897054\ntrain loss:1.3317853004241977\n"
     ]
    },
    {
     "name": "stdout",
     "output_type": "stream",
     "text": [
      "=== epoch:229, train acc:0.5233333333333333, test acc:0.4308 ===\ntrain loss:1.5092424202467811\ntrain loss:1.6587702754469598\ntrain loss:1.610202365869718\n"
     ]
    },
    {
     "name": "stdout",
     "output_type": "stream",
     "text": [
      "=== epoch:230, train acc:0.53, test acc:0.4329 ===\ntrain loss:1.4552543225351156\ntrain loss:1.557572556296752\ntrain loss:1.4644362941844986\n"
     ]
    },
    {
     "name": "stdout",
     "output_type": "stream",
     "text": [
      "=== epoch:231, train acc:0.5333333333333333, test acc:0.4344 ===\ntrain loss:1.4586966232772454\ntrain loss:1.4529449923719437\ntrain loss:1.4712939190369576\n"
     ]
    },
    {
     "name": "stdout",
     "output_type": "stream",
     "text": [
      "=== epoch:232, train acc:0.5366666666666666, test acc:0.4357 ===\ntrain loss:1.4031445452656766\ntrain loss:1.5011903677919534\ntrain loss:1.5241051315405878\n"
     ]
    },
    {
     "name": "stdout",
     "output_type": "stream",
     "text": [
      "=== epoch:233, train acc:0.5366666666666666, test acc:0.4374 ===\ntrain loss:1.5013248171365172\ntrain loss:1.4850653340659061\ntrain loss:1.524268225439057\n"
     ]
    },
    {
     "name": "stdout",
     "output_type": "stream",
     "text": [
      "=== epoch:234, train acc:0.5433333333333333, test acc:0.4401 ===\ntrain loss:1.4514991803648514\ntrain loss:1.5924483937898044\ntrain loss:1.4875495055195314\n"
     ]
    },
    {
     "name": "stdout",
     "output_type": "stream",
     "text": [
      "=== epoch:235, train acc:0.5466666666666666, test acc:0.4432 ===\ntrain loss:1.4893493563715219\ntrain loss:1.4845359499586528\ntrain loss:1.4537401505916459\n"
     ]
    },
    {
     "name": "stdout",
     "output_type": "stream",
     "text": [
      "=== epoch:236, train acc:0.5466666666666666, test acc:0.4428 ===\ntrain loss:1.4712796537359156\ntrain loss:1.4412671861745627\ntrain loss:1.3776494213622241\n"
     ]
    },
    {
     "name": "stdout",
     "output_type": "stream",
     "text": [
      "=== epoch:237, train acc:0.5433333333333333, test acc:0.4423 ===\ntrain loss:1.5970181146943105\ntrain loss:1.4532092642387386\ntrain loss:1.391838898370249\n"
     ]
    },
    {
     "name": "stdout",
     "output_type": "stream",
     "text": [
      "=== epoch:238, train acc:0.5533333333333333, test acc:0.4444 ===\ntrain loss:1.464080425451526\ntrain loss:1.490141686362988\ntrain loss:1.5020691598838218\n"
     ]
    },
    {
     "name": "stdout",
     "output_type": "stream",
     "text": [
      "=== epoch:239, train acc:0.5533333333333333, test acc:0.4462 ===\ntrain loss:1.5731859909154544\ntrain loss:1.38768610468168\ntrain loss:1.2625648624156398\n"
     ]
    },
    {
     "name": "stdout",
     "output_type": "stream",
     "text": [
      "=== epoch:240, train acc:0.5533333333333333, test acc:0.446 ===\ntrain loss:1.4726268663744253\ntrain loss:1.44022916968965\ntrain loss:1.3981380132349137\n"
     ]
    },
    {
     "name": "stdout",
     "output_type": "stream",
     "text": [
      "=== epoch:241, train acc:0.5533333333333333, test acc:0.4497 ===\ntrain loss:1.499805565485552\ntrain loss:1.5268726423538876\ntrain loss:1.270897546002173\n"
     ]
    },
    {
     "name": "stdout",
     "output_type": "stream",
     "text": [
      "=== epoch:242, train acc:0.5566666666666666, test acc:0.452 ===\ntrain loss:1.512022281589363\ntrain loss:1.474160164356698\ntrain loss:1.6153653272784758\n"
     ]
    },
    {
     "name": "stdout",
     "output_type": "stream",
     "text": [
      "=== epoch:243, train acc:0.5566666666666666, test acc:0.4566 ===\ntrain loss:1.44049143285758\ntrain loss:1.4648389247899225\ntrain loss:1.2887551730578004\n"
     ]
    },
    {
     "name": "stdout",
     "output_type": "stream",
     "text": [
      "=== epoch:244, train acc:0.5633333333333334, test acc:0.4579 ===\ntrain loss:1.461515741540268\ntrain loss:1.3628052392833327\ntrain loss:1.415242204304439\n"
     ]
    },
    {
     "name": "stdout",
     "output_type": "stream",
     "text": [
      "=== epoch:245, train acc:0.5633333333333334, test acc:0.4578 ===\ntrain loss:1.502037621972167\ntrain loss:1.5338967874351306\ntrain loss:1.3431129358509093\n"
     ]
    },
    {
     "name": "stdout",
     "output_type": "stream",
     "text": [
      "=== epoch:246, train acc:0.56, test acc:0.4591 ===\ntrain loss:1.4669960845380814\ntrain loss:1.4114387410658134\ntrain loss:1.4155463231062637\n"
     ]
    },
    {
     "name": "stdout",
     "output_type": "stream",
     "text": [
      "=== epoch:247, train acc:0.56, test acc:0.4561 ===\ntrain loss:1.4015735798085327\ntrain loss:1.572199342689571\ntrain loss:1.6273313168040235\n"
     ]
    },
    {
     "name": "stdout",
     "output_type": "stream",
     "text": [
      "=== epoch:248, train acc:0.5666666666666667, test acc:0.4612 ===\ntrain loss:1.3866728104034363\ntrain loss:1.467632204279574\ntrain loss:1.3673795727341982\n"
     ]
    },
    {
     "name": "stdout",
     "output_type": "stream",
     "text": [
      "=== epoch:249, train acc:0.5666666666666667, test acc:0.4621 ===\ntrain loss:1.408326061104016\ntrain loss:1.401961405158196\ntrain loss:1.3623467238274856\n"
     ]
    },
    {
     "name": "stdout",
     "output_type": "stream",
     "text": [
      "=== epoch:250, train acc:0.5633333333333334, test acc:0.4619 ===\ntrain loss:1.4148898233183311\ntrain loss:1.4983819550584323\ntrain loss:1.3553524888037318\n"
     ]
    },
    {
     "name": "stdout",
     "output_type": "stream",
     "text": [
      "=== epoch:251, train acc:0.57, test acc:0.4653 ===\ntrain loss:1.4700831349299661\ntrain loss:1.5162997168269958\ntrain loss:1.4301034827185872\n"
     ]
    },
    {
     "name": "stdout",
     "output_type": "stream",
     "text": [
      "=== epoch:252, train acc:0.57, test acc:0.4691 ===\ntrain loss:1.3290912325368804\ntrain loss:1.398545599310694\ntrain loss:1.3308208818876122\n"
     ]
    },
    {
     "name": "stdout",
     "output_type": "stream",
     "text": [
      "=== epoch:253, train acc:0.58, test acc:0.4697 ===\ntrain loss:1.3993759203866682\ntrain loss:1.3435901465711575\ntrain loss:1.3070029588857808\n"
     ]
    },
    {
     "name": "stdout",
     "output_type": "stream",
     "text": [
      "=== epoch:254, train acc:0.5833333333333334, test acc:0.4725 ===\ntrain loss:1.543117187967624\ntrain loss:1.4316450449131954\ntrain loss:1.4157897083438087\n"
     ]
    },
    {
     "name": "stdout",
     "output_type": "stream",
     "text": [
      "=== epoch:255, train acc:0.5933333333333334, test acc:0.4765 ===\ntrain loss:1.2423656647799923\ntrain loss:1.3034744873073512\ntrain loss:1.4216728317862766\n"
     ]
    },
    {
     "name": "stdout",
     "output_type": "stream",
     "text": [
      "=== epoch:256, train acc:0.5866666666666667, test acc:0.4793 ===\ntrain loss:1.3909375183049753\ntrain loss:1.356880265699641\ntrain loss:1.3324709625509237\n"
     ]
    },
    {
     "name": "stdout",
     "output_type": "stream",
     "text": [
      "=== epoch:257, train acc:0.5866666666666667, test acc:0.4797 ===\ntrain loss:1.3987587682175253\ntrain loss:1.4489916409568204\ntrain loss:1.5165991849058533\n"
     ]
    },
    {
     "name": "stdout",
     "output_type": "stream",
     "text": [
      "=== epoch:258, train acc:0.5966666666666667, test acc:0.4821 ===\ntrain loss:1.4110342827794249\ntrain loss:1.4432754365690048\ntrain loss:1.3701281506985707\n"
     ]
    },
    {
     "name": "stdout",
     "output_type": "stream",
     "text": [
      "=== epoch:259, train acc:0.6033333333333334, test acc:0.4872 ===\ntrain loss:1.2777526026443964\ntrain loss:1.257720043997986\ntrain loss:1.2623001638561941\n"
     ]
    },
    {
     "name": "stdout",
     "output_type": "stream",
     "text": [
      "=== epoch:260, train acc:0.5933333333333334, test acc:0.4845 ===\ntrain loss:1.2704224930627874\ntrain loss:1.3450405012054896\ntrain loss:1.3698229637693586\n"
     ]
    },
    {
     "name": "stdout",
     "output_type": "stream",
     "text": [
      "=== epoch:261, train acc:0.5966666666666667, test acc:0.4854 ===\ntrain loss:1.417949735943198\ntrain loss:1.2791874777006405\ntrain loss:1.5203519635533147\n"
     ]
    },
    {
     "name": "stdout",
     "output_type": "stream",
     "text": [
      "=== epoch:262, train acc:0.59, test acc:0.4859 ===\ntrain loss:1.3075391695979175\ntrain loss:1.3410922147193665\ntrain loss:1.2007066769271322\n"
     ]
    },
    {
     "name": "stdout",
     "output_type": "stream",
     "text": [
      "=== epoch:263, train acc:0.6033333333333334, test acc:0.4879 ===\ntrain loss:1.2775048003956107\ntrain loss:1.2840769654083997\ntrain loss:1.4599829447244272\n"
     ]
    },
    {
     "name": "stdout",
     "output_type": "stream",
     "text": [
      "=== epoch:264, train acc:0.6066666666666667, test acc:0.4918 ===\ntrain loss:1.343229203507385\ntrain loss:1.2801922332116193\ntrain loss:1.2795291061753802\n"
     ]
    },
    {
     "name": "stdout",
     "output_type": "stream",
     "text": [
      "=== epoch:265, train acc:0.6066666666666667, test acc:0.4923 ===\ntrain loss:1.3000324290157372\ntrain loss:1.3146618329097461\ntrain loss:1.3499962136691335\n"
     ]
    },
    {
     "name": "stdout",
     "output_type": "stream",
     "text": [
      "=== epoch:266, train acc:0.6033333333333334, test acc:0.4917 ===\ntrain loss:1.3077529679123046\ntrain loss:1.2846823670746206\ntrain loss:1.152274384533982\n"
     ]
    },
    {
     "name": "stdout",
     "output_type": "stream",
     "text": [
      "=== epoch:267, train acc:0.6066666666666667, test acc:0.4896 ===\ntrain loss:1.294344555062017\ntrain loss:1.3428044313040375\ntrain loss:1.231313794842514\n"
     ]
    },
    {
     "name": "stdout",
     "output_type": "stream",
     "text": [
      "=== epoch:268, train acc:0.6033333333333334, test acc:0.4941 ===\ntrain loss:1.1940635198100171\ntrain loss:1.3532477362821824\ntrain loss:1.2046131951839971\n"
     ]
    },
    {
     "name": "stdout",
     "output_type": "stream",
     "text": [
      "=== epoch:269, train acc:0.61, test acc:0.4938 ===\ntrain loss:1.2238828105742492\ntrain loss:1.259583457861266\ntrain loss:1.3005582130176772\n"
     ]
    },
    {
     "name": "stdout",
     "output_type": "stream",
     "text": [
      "=== epoch:270, train acc:0.6133333333333333, test acc:0.4936 ===\ntrain loss:1.1724107125342704\ntrain loss:1.2475797198303225\ntrain loss:1.283101842668122\n"
     ]
    },
    {
     "name": "stdout",
     "output_type": "stream",
     "text": [
      "=== epoch:271, train acc:0.61, test acc:0.4949 ===\ntrain loss:1.1834684223508698\ntrain loss:1.2468964289454616\ntrain loss:1.2462012146003056\n"
     ]
    },
    {
     "name": "stdout",
     "output_type": "stream",
     "text": [
      "=== epoch:272, train acc:0.6133333333333333, test acc:0.495 ===\ntrain loss:1.3303279648540773\ntrain loss:1.2192320190437966\ntrain loss:1.1859729771706002\n"
     ]
    },
    {
     "name": "stdout",
     "output_type": "stream",
     "text": [
      "=== epoch:273, train acc:0.61, test acc:0.494 ===\ntrain loss:1.3572719690299166\ntrain loss:1.2036410942952072\ntrain loss:1.1149327306582955\n"
     ]
    },
    {
     "name": "stdout",
     "output_type": "stream",
     "text": [
      "=== epoch:274, train acc:0.61, test acc:0.4941 ===\ntrain loss:1.1490252727434738\ntrain loss:1.1729312933973757\ntrain loss:1.2101657101706491\n"
     ]
    },
    {
     "name": "stdout",
     "output_type": "stream",
     "text": [
      "=== epoch:275, train acc:0.6066666666666667, test acc:0.4955 ===\ntrain loss:1.2681044711039677\ntrain loss:1.2150819211764325\ntrain loss:1.3640333418651762\n"
     ]
    },
    {
     "name": "stdout",
     "output_type": "stream",
     "text": [
      "=== epoch:276, train acc:0.6166666666666667, test acc:0.5032 ===\ntrain loss:1.4222603346286837\ntrain loss:1.3342446851688872\ntrain loss:1.216144355739063\n"
     ]
    },
    {
     "name": "stdout",
     "output_type": "stream",
     "text": [
      "=== epoch:277, train acc:0.6266666666666667, test acc:0.5061 ===\ntrain loss:1.1826023339692482\ntrain loss:1.2594434449532452\ntrain loss:1.2332245161893076\n"
     ]
    },
    {
     "name": "stdout",
     "output_type": "stream",
     "text": [
      "=== epoch:278, train acc:0.62, test acc:0.5075 ===\ntrain loss:1.302910136088192\ntrain loss:1.193042877699407\ntrain loss:1.2860114789233215\n"
     ]
    },
    {
     "name": "stdout",
     "output_type": "stream",
     "text": [
      "=== epoch:279, train acc:0.6266666666666667, test acc:0.5099 ===\ntrain loss:1.2629027404754305\ntrain loss:1.3020892406261395\ntrain loss:1.2449547789418205\n"
     ]
    },
    {
     "name": "stdout",
     "output_type": "stream",
     "text": [
      "=== epoch:280, train acc:0.6433333333333333, test acc:0.5164 ===\ntrain loss:1.2427418834611839\ntrain loss:1.2734049431438887\ntrain loss:1.2201269694822579\n"
     ]
    },
    {
     "name": "stdout",
     "output_type": "stream",
     "text": [
      "=== epoch:281, train acc:0.6466666666666666, test acc:0.519 ===\ntrain loss:1.2100337148796994\ntrain loss:1.2244964426544631\ntrain loss:1.2539159235645954\n"
     ]
    },
    {
     "name": "stdout",
     "output_type": "stream",
     "text": [
      "=== epoch:282, train acc:0.6533333333333333, test acc:0.5213 ===\ntrain loss:1.206182127040801\ntrain loss:1.1583365102050647\ntrain loss:1.2775837026056491\n"
     ]
    },
    {
     "name": "stdout",
     "output_type": "stream",
     "text": [
      "=== epoch:283, train acc:0.65, test acc:0.522 ===\ntrain loss:1.1843318947835415\ntrain loss:1.3358844074232636\ntrain loss:1.3052664781571122\n"
     ]
    },
    {
     "name": "stdout",
     "output_type": "stream",
     "text": [
      "=== epoch:284, train acc:0.66, test acc:0.5255 ===\ntrain loss:1.1623707462417197\ntrain loss:1.149975738749796\ntrain loss:1.2028713111269698\n"
     ]
    },
    {
     "name": "stdout",
     "output_type": "stream",
     "text": [
      "=== epoch:285, train acc:0.67, test acc:0.527 ===\ntrain loss:1.1241431367679124\ntrain loss:1.2507589558119603\ntrain loss:1.2891172721825086\n"
     ]
    },
    {
     "name": "stdout",
     "output_type": "stream",
     "text": [
      "=== epoch:286, train acc:0.6666666666666666, test acc:0.5258 ===\ntrain loss:1.150002785691708\ntrain loss:1.230973606887358\ntrain loss:1.2894045806720513\n"
     ]
    },
    {
     "name": "stdout",
     "output_type": "stream",
     "text": [
      "=== epoch:287, train acc:0.6733333333333333, test acc:0.5294 ===\ntrain loss:1.2729775581809448\ntrain loss:1.2816673169620778\ntrain loss:1.2379055347598942\n"
     ]
    },
    {
     "name": "stdout",
     "output_type": "stream",
     "text": [
      "=== epoch:288, train acc:0.68, test acc:0.5344 ===\ntrain loss:1.1480395818989004\ntrain loss:1.0640239616898184\ntrain loss:1.11412633721353\n"
     ]
    },
    {
     "name": "stdout",
     "output_type": "stream",
     "text": [
      "=== epoch:289, train acc:0.67, test acc:0.5342 ===\ntrain loss:1.0237557637304293\ntrain loss:1.1237042010968104\ntrain loss:1.134059814337333\n"
     ]
    },
    {
     "name": "stdout",
     "output_type": "stream",
     "text": [
      "=== epoch:290, train acc:0.67, test acc:0.5314 ===\ntrain loss:1.118486671267489\ntrain loss:1.1837247835418128\ntrain loss:1.2277496776774948\n"
     ]
    },
    {
     "name": "stdout",
     "output_type": "stream",
     "text": [
      "=== epoch:291, train acc:0.67, test acc:0.5365 ===\ntrain loss:1.288275810519978\ntrain loss:1.19721606898021\ntrain loss:1.1703348195910368\n"
     ]
    },
    {
     "name": "stdout",
     "output_type": "stream",
     "text": [
      "=== epoch:292, train acc:0.6733333333333333, test acc:0.5372 ===\ntrain loss:0.971389343592446\ntrain loss:1.070188414863801\ntrain loss:1.1806932998298718\n"
     ]
    },
    {
     "name": "stdout",
     "output_type": "stream",
     "text": [
      "=== epoch:293, train acc:0.6766666666666666, test acc:0.5413 ===\ntrain loss:1.1429838048614953\ntrain loss:1.1187207818798373\ntrain loss:1.1423475494131563\n"
     ]
    },
    {
     "name": "stdout",
     "output_type": "stream",
     "text": [
      "=== epoch:294, train acc:0.6766666666666666, test acc:0.5426 ===\ntrain loss:1.1605551134562602\ntrain loss:1.254887745848006\ntrain loss:1.060267924278574\n"
     ]
    },
    {
     "name": "stdout",
     "output_type": "stream",
     "text": [
      "=== epoch:295, train acc:0.6766666666666666, test acc:0.543 ===\ntrain loss:1.1811274221027057\ntrain loss:1.110903259699817\ntrain loss:1.1712565871504057\n"
     ]
    },
    {
     "name": "stdout",
     "output_type": "stream",
     "text": [
      "=== epoch:296, train acc:0.68, test acc:0.5473 ===\ntrain loss:0.9826458780746558\ntrain loss:1.1416010609353622\ntrain loss:1.078617026126539\n"
     ]
    },
    {
     "name": "stdout",
     "output_type": "stream",
     "text": [
      "=== epoch:297, train acc:0.6866666666666666, test acc:0.5477 ===\ntrain loss:1.1232815620299683\ntrain loss:1.09229251834616\ntrain loss:1.0678693731601734\n"
     ]
    },
    {
     "name": "stdout",
     "output_type": "stream",
     "text": [
      "=== epoch:298, train acc:0.6833333333333333, test acc:0.547 ===\ntrain loss:1.2336733244018065\ntrain loss:1.0841241736464555\ntrain loss:1.0888674228591047\n"
     ]
    },
    {
     "name": "stdout",
     "output_type": "stream",
     "text": [
      "=== epoch:299, train acc:0.6833333333333333, test acc:0.5502 ===\ntrain loss:1.1044622275761231\ntrain loss:1.036557884865923\ntrain loss:1.1505388830712981\n"
     ]
    },
    {
     "name": "stdout",
     "output_type": "stream",
     "text": [
      "=== epoch:300, train acc:0.7, test acc:0.5515 ===\ntrain loss:1.106042292151309\ntrain loss:1.1512376884728839\ntrain loss:1.081891069769377\n"
     ]
    },
    {
     "name": "stdout",
     "output_type": "stream",
     "text": [
      "=== epoch:301, train acc:0.6966666666666667, test acc:0.5553 ===\ntrain loss:1.0826032756117259\ntrain loss:1.023447686076456\n"
     ]
    },
    {
     "name": "stdout",
     "output_type": "stream",
     "text": [
      "=============== Final Test Accuracy ===============\ntest acc:0.5537\n"
     ]
    },
    {
     "data": {
      "image/png": "[encoded data removed]",
      "text/plain": [
       "<matplotlib.figure.Figure at 0x11d7729bf98>"
      ]
     },
     "metadata": {},
     "output_type": "display_data"
    }
   ],
   "source": [
    "# coding: utf-8\n",
    "import os\n",
    "import sys\n",
    "sys.path.append(os.pardir)  # 親ディレクトリのファイルをインポートするための設定\n",
    "import numpy as np\n",
    "import matplotlib.pyplot as plt\n",
    "from dataset.mnist import load_mnist\n",
    "from common.multi_layer_net_extend import MultiLayerNetExtend\n",
    "from common.trainer import Trainer\n",
    "\n",
    "(x_train, t_train), (x_test, t_test) = load_mnist(normalize=True)\n",
    "\n",
    "# 過学習を再現するために、学習データを削減\n",
    "x_train = x_train[:300]\n",
    "t_train = t_train[:300]\n",
    "\n",
    "# Dropuoutの有無、割り合いの設定 ========================\n",
    "use_dropout = True  # Dropoutなしのときの場合はFalseに\n",
    "dropout_ratio = 0.2\n",
    "# ====================================================\n",
    "\n",
    "network = MultiLayerNetExtend(input_size=784, hidden_size_list=[100, 100, 100, 100, 100, 100],\n",
    "                              output_size=10, use_dropout=use_dropout, dropout_ration=dropout_ratio)\n",
    "trainer = Trainer(network, x_train, t_train, x_test, t_test,\n",
    "                  epochs=301, mini_batch_size=100,\n",
    "                  optimizer='sgd', optimizer_param={'lr': 0.01}, verbose=True)\n",
    "trainer.train()\n",
    "\n",
    "train_acc_list, test_acc_list = trainer.train_acc_list, trainer.test_acc_list\n",
    "\n",
    "# グラフの描画==========\n",
    "markers = {'train': 'o', 'test': 's'}\n",
    "x = np.arange(len(train_acc_list))\n",
    "plt.plot(x, train_acc_list, marker='o', label='train', markevery=10)\n",
    "plt.plot(x, test_acc_list, marker='s', label='test', markevery=10)\n",
    "plt.xlabel(\"epochs\")\n",
    "plt.ylabel(\"accuracy\")\n",
    "plt.ylim(0, 1.0)\n",
    "plt.legend(loc='lower right')\n",
    "plt.show()"
   ]
  },
  {
   "cell_type": "code",
   "execution_count": 5,
   "metadata": {},
   "outputs": [
    {
     "data": {
      "image/png": "[encoded data removed]",
      "text/plain": [
       "<matplotlib.figure.Figure at 0x11d772a2d30>"
      ]
     },
     "metadata": {},
     "output_type": "display_data"
    }
   ],
   "source": [
    "# coding: utf-8\n",
    "import sys, os\n",
    "sys.path.append(os.pardir)  # 親ディレクトリのファイルをインポートするための設定\n",
    "import numpy as np\n",
    "import matplotlib.pyplot as plt\n",
    "from collections import OrderedDict\n",
    "from common.optimizer import *\n",
    "\n",
    "\n",
    "def f(x, y):\n",
    "    return x**2 / 20.0 + y**2\n",
    "\n",
    "\n",
    "def df(x, y):\n",
    "    return x / 10.0, 2.0*y\n",
    "\n",
    "init_pos = (-7.0, 2.0)\n",
    "params = {}\n",
    "params['x'], params['y'] = init_pos[0], init_pos[1]\n",
    "grads = {}\n",
    "grads['x'], grads['y'] = 0, 0\n",
    "\n",
    "\n",
    "optimizers = OrderedDict()\n",
    "optimizers[\"SGD\"] = SGD(lr=0.95)\n",
    "optimizers[\"Momentum\"] = Momentum(lr=0.1)\n",
    "optimizers[\"AdaGrad\"] = AdaGrad(lr=1.5)\n",
    "optimizers[\"Adam\"] = Adam(lr=0.3)\n",
    "\n",
    "idx = 1\n",
    "\n",
    "for key in optimizers:\n",
    "    optimizer = optimizers[key]\n",
    "    x_history = []\n",
    "    y_history = []\n",
    "    params['x'], params['y'] = init_pos[0], init_pos[1]\n",
    "    \n",
    "    for i in range(30):\n",
    "        x_history.append(params['x'])\n",
    "        y_history.append(params['y'])\n",
    "        \n",
    "        grads['x'], grads['y'] = df(params['x'], params['y'])\n",
    "        optimizer.update(params, grads)\n",
    "    \n",
    "\n",
    "    x = np.arange(-10, 10, 0.01)\n",
    "    y = np.arange(-5, 5, 0.01)\n",
    "    \n",
    "    X, Y = np.meshgrid(x, y) \n",
    "    Z = f(X, Y)\n",
    "    \n",
    "    # for simple contour line  \n",
    "    mask = Z > 7\n",
    "    Z[mask] = 0\n",
    "    \n",
    "    # plot \n",
    "    plt.subplot(2, 2, idx)\n",
    "    idx += 1\n",
    "    plt.plot(x_history, y_history, 'o-', color=\"red\")\n",
    "    plt.contour(X, Y, Z)\n",
    "    plt.ylim(-10, 10)\n",
    "    plt.xlim(-10, 10)\n",
    "    plt.plot(0, 0, '+')\n",
    "    #colorbar()\n",
    "    #spring()\n",
    "    plt.title(key)\n",
    "    plt.xlabel(\"x\")\n",
    "    plt.ylabel(\"y\")\n",
    "    \n",
    "plt.show()"
   ]
  },
  {
   "cell_type": "code",
   "execution_count": 6,
   "metadata": {},
   "outputs": [
    {
     "data": {
      "image/png": "[encoded data removed]",
      "text/plain": [
       "<matplotlib.figure.Figure at 0x11d783786a0>"
      ]
     },
     "metadata": {},
     "output_type": "display_data"
    }
   ],
   "source": [
    "# coding: utf-8\n",
    "import numpy as np\n",
    "import matplotlib.pyplot as plt\n",
    "\n",
    "\n",
    "def sigmoid(x):\n",
    "    return 1 / (1 + np.exp(-x))\n",
    "\n",
    "\n",
    "def ReLU(x):\n",
    "    return np.maximum(0, x)\n",
    "\n",
    "\n",
    "def tanh(x):\n",
    "    return np.tanh(x)\n",
    "    \n",
    "input_data = np.random.randn(1000, 100)  # 1000個のデータ\n",
    "node_num = 100  # 各隠れ層のノード（ニューロン）の数\n",
    "hidden_layer_size = 5  # 隠れ層が5層\n",
    "activations = {}  # ここにアクティベーションの結果を格納する\n",
    "\n",
    "x = input_data\n",
    "\n",
    "for i in range(hidden_layer_size):\n",
    "    if i != 0:\n",
    "        x = activations[i-1]\n",
    "\n",
    "    # 初期値の値をいろいろ変えて実験しよう！\n",
    "    w = np.random.randn(node_num, node_num) * 1\n",
    "    # w = np.random.randn(node_num, node_num) * 0.01\n",
    "    # w = np.random.randn(node_num, node_num) * np.sqrt(1.0 / node_num)\n",
    "    # w = np.random.randn(node_num, node_num) * np.sqrt(2.0 / node_num)\n",
    "\n",
    "\n",
    "    a = np.dot(x, w)\n",
    "\n",
    "\n",
    "    # 活性化関数の種類も変えて実験しよう！\n",
    "    z = sigmoid(a)\n",
    "    # z = ReLU(a)\n",
    "    # z = tanh(a)\n",
    "\n",
    "    activations[i] = z\n",
    "\n",
    "# ヒストグラムを描画\n",
    "for i, a in activations.items():\n",
    "    plt.subplot(1, len(activations), i+1)\n",
    "    plt.title(str(i+1) + \"-layer\")\n",
    "    if i != 0: plt.yticks([], [])\n",
    "    # plt.xlim(0.1, 1)\n",
    "    # plt.ylim(0, 7000)\n",
    "    plt.hist(a.flatten(), 30, range=(0,1))\n",
    "plt.show()\n"
   ]
  },
  {
   "cell_type": "code",
   "execution_count": 7,
   "metadata": {},
   "outputs": [
    {
     "name": "stdout",
     "output_type": "stream",
     "text": [
      "===========iteration:0===========\nstd=0.01:2.302531632664846\nXavier:2.2919413915522715\nHe:2.352986687822426\n"
     ]
    },
    {
     "name": "stdout",
     "output_type": "stream",
     "text": [
      "===========iteration:100===========\nstd=0.01:2.300972815658557\nXavier:2.2540916003742675\nHe:1.3593554946198774\n"
     ]
    },
    {
     "name": "stdout",
     "output_type": "stream",
     "text": [
      "===========iteration:200===========\nstd=0.01:2.3033536160975916\nXavier:2.1775816541446966\nHe:0.688423696517142\n"
     ]
    },
    {
     "name": "stdout",
     "output_type": "stream",
     "text": [
      "===========iteration:300===========\nstd=0.01:2.3029372118924805\nXavier:1.9854251604710496\nHe:0.5680215637519893\n"
     ]
    },
    {
     "name": "stdout",
     "output_type": "stream",
     "text": [
      "===========iteration:400===========\nstd=0.01:2.301111357574664\nXavier:1.539490918858144\nHe:0.5085335756778702\n"
     ]
    },
    {
     "name": "stdout",
     "output_type": "stream",
     "text": [
      "===========iteration:500===========\nstd=0.01:2.302093960218639\nXavier:1.0379433958027728\nHe:0.3637030119954725\n"
     ]
    },
    {
     "name": "stdout",
     "output_type": "stream",
     "text": [
      "===========iteration:600===========\nstd=0.01:2.2981505119492605\nXavier:0.7231590265061176\nHe:0.29667260188072236\n"
     ]
    },
    {
     "name": "stdout",
     "output_type": "stream",
     "text": [
      "===========iteration:700===========\nstd=0.01:2.298741606835728\nXavier:0.7268106927148105\nHe:0.4542690703013886\n"
     ]
    },
    {
     "name": "stdout",
     "output_type": "stream",
     "text": [
      "===========iteration:800===========\nstd=0.01:2.3000683224462515\nXavier:0.49296258443661745\nHe:0.3074099751219363\n"
     ]
    },
    {
     "name": "stdout",
     "output_type": "stream",
     "text": [
      "===========iteration:900===========\nstd=0.01:2.3047418674283158\nXavier:0.48809044437793114\nHe:0.31341318612799873\n"
     ]
    },
    {
     "name": "stdout",
     "output_type": "stream",
     "text": [
      "===========iteration:1000===========\nstd=0.01:2.302816510951189\nXavier:0.5041263325802717\nHe:0.35024066362928385\n"
     ]
    },
    {
     "name": "stdout",
     "output_type": "stream",
     "text": [
      "===========iteration:1100===========\nstd=0.01:2.3014610745072526\nXavier:0.3730777642872034\nHe:0.2128341321262327\n"
     ]
    },
    {
     "name": "stdout",
     "output_type": "stream",
     "text": [
      "===========iteration:1200===========\nstd=0.01:2.296300498254125\nXavier:0.563925715344163\nHe:0.42180153992056424\n"
     ]
    },
    {
     "name": "stdout",
     "output_type": "stream",
     "text": [
      "===========iteration:1300===========\nstd=0.01:2.2985139409118345\nXavier:0.3646644422540845\nHe:0.26340733791224485\n"
     ]
    },
    {
     "name": "stdout",
     "output_type": "stream",
     "text": [
      "===========iteration:1400===========\nstd=0.01:2.298983522723075\nXavier:0.40616731184423327\nHe:0.2765368216173507\n"
     ]
    },
    {
     "name": "stdout",
     "output_type": "stream",
     "text": [
      "===========iteration:1500===========\nstd=0.01:2.301236284909254\nXavier:0.3417404124472766\nHe:0.20684323817724376\n"
     ]
    },
    {
     "name": "stdout",
     "output_type": "stream",
     "text": [
      "===========iteration:1600===========\nstd=0.01:2.298335566524298\nXavier:0.5446391161983801\nHe:0.41306310441065325\n"
     ]
    },
    {
     "name": "stdout",
     "output_type": "stream",
     "text": [
      "===========iteration:1700===========\nstd=0.01:2.3053562200757254\nXavier:0.4126301274592169\nHe:0.24555723406782887\n"
     ]
    },
    {
     "name": "stdout",
     "output_type": "stream",
     "text": [
      "===========iteration:1800===========\nstd=0.01:2.303757759746004\nXavier:0.10896743027470908\nHe:0.05659438342944252\n"
     ]
    },
    {
     "name": "stdout",
     "output_type": "stream",
     "text": [
      "===========iteration:1900===========\nstd=0.01:2.2995630042845843\nXavier:0.3052585329692651\nHe:0.18200620232704895\n"
     ]
    },
    {
     "data": {
      "image/png": "[encoded data removed]",
      "text/plain": [
       "<matplotlib.figure.Figure at 0x11d03bce400>"
      ]
     },
     "metadata": {},
     "output_type": "display_data"
    }
   ],
   "source": [
    "# coding: utf-8\n",
    "import os\n",
    "import sys\n",
    "\n",
    "sys.path.append(os.pardir)  # 親ディレクトリのファイルをインポートするための設定\n",
    "import numpy as np\n",
    "import matplotlib.pyplot as plt\n",
    "from dataset.mnist import load_mnist\n",
    "from common.util import smooth_curve\n",
    "from common.multi_layer_net import MultiLayerNet\n",
    "from common.optimizer import SGD\n",
    "\n",
    "\n",
    "# 0:MNISTデータの読み込み==========\n",
    "(x_train, t_train), (x_test, t_test) = load_mnist(normalize=True)\n",
    "\n",
    "train_size = x_train.shape[0]\n",
    "batch_size = 128\n",
    "max_iterations = 2000\n",
    "\n",
    "\n",
    "# 1:実験の設定==========\n",
    "weight_init_types = {'std=0.01': 0.01, 'Xavier': 'sigmoid', 'He': 'relu'}\n",
    "optimizer = SGD(lr=0.01)\n",
    "\n",
    "networks = {}\n",
    "train_loss = {}\n",
    "for key, weight_type in weight_init_types.items():\n",
    "    networks[key] = MultiLayerNet(input_size=784, hidden_size_list=[100, 100, 100, 100],\n",
    "                                  output_size=10, weight_init_std=weight_type)\n",
    "    train_loss[key] = []\n",
    "\n",
    "\n",
    "# 2:訓練の開始==========\n",
    "for i in range(max_iterations):\n",
    "    batch_mask = np.random.choice(train_size, batch_size)\n",
    "    x_batch = x_train[batch_mask]\n",
    "    t_batch = t_train[batch_mask]\n",
    "    \n",
    "    for key in weight_init_types.keys():\n",
    "        grads = networks[key].gradient(x_batch, t_batch)\n",
    "        optimizer.update(networks[key].params, grads)\n",
    "    \n",
    "        loss = networks[key].loss(x_batch, t_batch)\n",
    "        train_loss[key].append(loss)\n",
    "    \n",
    "    if i % 100 == 0:\n",
    "        print(\"===========\" + \"iteration:\" + str(i) + \"===========\")\n",
    "        for key in weight_init_types.keys():\n",
    "            loss = networks[key].loss(x_batch, t_batch)\n",
    "            print(key + \":\" + str(loss))\n",
    "\n",
    "\n",
    "# 3.グラフの描画==========\n",
    "markers = {'std=0.01': 'o', 'Xavier': 's', 'He': 'D'}\n",
    "x = np.arange(max_iterations)\n",
    "for key in weight_init_types.keys():\n",
    "    plt.plot(x, smooth_curve(train_loss[key]), marker=markers[key], markevery=100, label=key)\n",
    "plt.xlabel(\"iterations\")\n",
    "plt.ylabel(\"loss\")\n",
    "plt.ylim(0, 2.5)\n",
    "plt.legend()\n",
    "plt.show()"
   ]
  },
  {
   "cell_type": "code",
   "execution_count": 10,
   "metadata": {},
   "outputs": [
    {
     "name": "stdout",
     "output_type": "stream",
     "text": [
      "W1:0.0\nb1:0.0\ngamma1:0.0\nbeta1:0.0\nW2:0.0\nb2:0.0\ngamma2:0.0\nbeta2:0.052310236566177615\nW3:0.0\nb3:1.7990402263745597e-07\n"
     ]
    }
   ],
   "source": [
    "# coding: utf-8\n",
    "import sys, os\n",
    "sys.path.append(os.pardir)  # 親ディレクトリのファイルをインポートするための設定\n",
    "import numpy as np\n",
    "from dataset.mnist import load_mnist\n",
    "from common.multi_layer_net_extend import MultiLayerNetExtend\n",
    "\n",
    "# データの読み込み\n",
    "(x_train, t_train), (x_test, t_test) = load_mnist(normalize=True, one_hot_label=True)\n",
    "\n",
    "network = MultiLayerNetExtend(input_size=784, hidden_size_list=[100, 100], output_size=10,\n",
    "                              use_batchnorm=True)\n",
    "\n",
    "x_batch = x_train[:1]\n",
    "t_batch = t_train[:1]\n",
    "\n",
    "grad_backprop = network.gradient(x_batch, t_batch)\n",
    "grad_numerical = network.numerical_gradient(x_batch, t_batch)\n",
    "\n",
    "\n",
    "for key in grad_numerical.keys():\n",
    "    diff = np.average( np.abs(grad_backprop[key] - grad_numerical[key]) )\n",
    "    print(key + \":\" + str(diff))"
   ]
  },
  {
   "cell_type": "code",
   "execution_count": 11,
   "metadata": {},
   "outputs": [
    {
     "name": "stdout",
     "output_type": "stream",
     "text": [
      "============== 1/16 ==============\nepoch:0 | 0.117 - 0.101\n"
     ]
    },
    {
     "name": "stderr",
     "output_type": "stream",
     "text": [
      "C:\\ProgramData\\Anaconda3\\lib\\site-packages\\common\\functions.py:34: RuntimeWarning: invalid value encountered in subtract\n  x = x - np.max(x, axis=0)\nC:\\ProgramData\\Anaconda3\\lib\\site-packages\\common\\layers.py:12: RuntimeWarning: invalid value encountered in less_equal\n  self.mask = (x <= 0)\nC:\\ProgramData\\Anaconda3\\lib\\site-packages\\numpy\\core\\_methods.py:26: RuntimeWarning: invalid value encountered in reduce\n  return umr_maximum(a, axis, None, out, keepdims)\n"
     ]
    },
    {
     "name": "stdout",
     "output_type": "stream",
     "text": [
      "epoch:1 | 0.097 - 0.145\n"
     ]
    },
    {
     "name": "stdout",
     "output_type": "stream",
     "text": [
      "epoch:2 | 0.097 - 0.153\n"
     ]
    },
    {
     "name": "stdout",
     "output_type": "stream",
     "text": [
      "epoch:3 | 0.097 - 0.158\n"
     ]
    },
    {
     "name": "stdout",
     "output_type": "stream",
     "text": [
      "epoch:4 | 0.097 - 0.182\nepoch:5 | 0.097 - 0.197\n"
     ]
    },
    {
     "name": "stdout",
     "output_type": "stream",
     "text": [
      "epoch:6 | 0.097 - 0.217\nepoch:7 | 0.097 - 0.23\n"
     ]
    },
    {
     "name": "stdout",
     "output_type": "stream",
     "text": [
      "epoch:8 | 0.097 - 0.24\nepoch:9 | 0.097 - 0.251\n"
     ]
    },
    {
     "name": "stdout",
     "output_type": "stream",
     "text": [
      "epoch:10 | 0.097 - 0.273\n"
     ]
    },
    {
     "name": "stdout",
     "output_type": "stream",
     "text": [
      "epoch:11 | 0.097 - 0.289\n"
     ]
    },
    {
     "name": "stdout",
     "output_type": "stream",
     "text": [
      "epoch:12 | 0.097 - 0.294\n"
     ]
    },
    {
     "name": "stdout",
     "output_type": "stream",
     "text": [
      "epoch:13 | 0.097 - 0.313\n"
     ]
    },
    {
     "name": "stdout",
     "output_type": "stream",
     "text": [
      "epoch:14 | 0.097 - 0.321\n"
     ]
    },
    {
     "name": "stdout",
     "output_type": "stream",
     "text": [
      "epoch:15 | 0.097 - 0.338\nepoch:16 | 0.097 - 0.35\n"
     ]
    },
    {
     "name": "stdout",
     "output_type": "stream",
     "text": [
      "epoch:17 | 0.097 - 0.362\nepoch:18 | 0.097 - 0.369\n"
     ]
    },
    {
     "name": "stderr",
     "output_type": "stream",
     "text": [
      "No handles with labels found to put in legend.\n"
     ]
    },
    {
     "name": "stdout",
     "output_type": "stream",
     "text": [
      "epoch:19 | 0.097 - 0.378\n============== 2/16 ==============\nepoch:0 | 0.099 - 0.124\n"
     ]
    },
    {
     "name": "stdout",
     "output_type": "stream",
     "text": [
      "epoch:1 | 0.097 - 0.102\nepoch:2 | 0.097 - 0.11\n"
     ]
    },
    {
     "name": "stdout",
     "output_type": "stream",
     "text": [
      "epoch:3 | 0.097 - 0.134\nepoch:4 | 0.097 - 0.152\n"
     ]
    },
    {
     "name": "stdout",
     "output_type": "stream",
     "text": [
      "epoch:5 | 0.097 - 0.179\n"
     ]
    },
    {
     "name": "stdout",
     "output_type": "stream",
     "text": [
      "epoch:6 | 0.097 - 0.216\nepoch:7 | 0.097 - 0.249\n"
     ]
    },
    {
     "name": "stdout",
     "output_type": "stream",
     "text": [
      "epoch:8 | 0.097 - 0.271\nepoch:9 | 0.097 - 0.288\n"
     ]
    },
    {
     "name": "stdout",
     "output_type": "stream",
     "text": [
      "epoch:10 | 0.097 - 0.317\n"
     ]
    },
    {
     "name": "stdout",
     "output_type": "stream",
     "text": [
      "epoch:11 | 0.097 - 0.33\n"
     ]
    },
    {
     "name": "stdout",
     "output_type": "stream",
     "text": [
      "epoch:12 | 0.097 - 0.344\nepoch:13 | 0.097 - 0.358\n"
     ]
    },
    {
     "name": "stdout",
     "output_type": "stream",
     "text": [
      "epoch:14 | 0.097 - 0.383\n"
     ]
    },
    {
     "name": "stdout",
     "output_type": "stream",
     "text": [
      "epoch:15 | 0.097 - 0.405\n"
     ]
    },
    {
     "name": "stdout",
     "output_type": "stream",
     "text": [
      "epoch:16 | 0.097 - 0.423\n"
     ]
    },
    {
     "name": "stdout",
     "output_type": "stream",
     "text": [
      "epoch:17 | 0.097 - 0.438\nepoch:18 | 0.097 - 0.444"
     ]
    },
    {
     "name": "stdout",
     "output_type": "stream",
     "text": [
      "\n"
     ]
    },
    {
     "name": "stderr",
     "output_type": "stream",
     "text": [
      "No handles with labels found to put in legend.\n"
     ]
    },
    {
     "name": "stdout",
     "output_type": "stream",
     "text": [
      "epoch:19 | 0.097 - 0.468\n============== 3/16 ==============\nepoch:0 | 0.097 - 0.127\n"
     ]
    },
    {
     "name": "stdout",
     "output_type": "stream",
     "text": [
      "epoch:1 | 0.237 - 0.115\n"
     ]
    },
    {
     "name": "stdout",
     "output_type": "stream",
     "text": [
      "epoch:2 | 0.387 - 0.143\n"
     ]
    },
    {
     "name": "stdout",
     "output_type": "stream",
     "text": [
      "epoch:3 | 0.497 - 0.183\n"
     ]
    },
    {
     "name": "stdout",
     "output_type": "stream",
     "text": [
      "epoch:4 | 0.567 - 0.223\n"
     ]
    },
    {
     "name": "stdout",
     "output_type": "stream",
     "text": [
      "epoch:5 | 0.618 - 0.248\n"
     ]
    },
    {
     "name": "stdout",
     "output_type": "stream",
     "text": [
      "epoch:6 | 0.656 - 0.284\n"
     ]
    },
    {
     "name": "stdout",
     "output_type": "stream",
     "text": [
      "epoch:7 | 0.709 - 0.328\n"
     ]
    },
    {
     "name": "stdout",
     "output_type": "stream",
     "text": [
      "epoch:8 | 0.753 - 0.358\n"
     ]
    },
    {
     "name": "stdout",
     "output_type": "stream",
     "text": [
      "epoch:9 | 0.775 - 0.401\n"
     ]
    },
    {
     "name": "stdout",
     "output_type": "stream",
     "text": [
      "epoch:10 | 0.803 - 0.442\n"
     ]
    },
    {
     "name": "stdout",
     "output_type": "stream",
     "text": [
      "epoch:11 | 0.822 - 0.467\n"
     ]
    },
    {
     "name": "stdout",
     "output_type": "stream",
     "text": [
      "epoch:12 | 0.85 - 0.495\n"
     ]
    },
    {
     "name": "stdout",
     "output_type": "stream",
     "text": [
      "epoch:13 | 0.864 - 0.522\n"
     ]
    },
    {
     "name": "stdout",
     "output_type": "stream",
     "text": [
      "epoch:14 | 0.879 - 0.546\n"
     ]
    },
    {
     "name": "stdout",
     "output_type": "stream",
     "text": [
      "epoch:15 | 0.886 - 0.561\n"
     ]
    },
    {
     "name": "stdout",
     "output_type": "stream",
     "text": [
      "epoch:16 | 0.902 - 0.572\n"
     ]
    },
    {
     "name": "stdout",
     "output_type": "stream",
     "text": [
      "epoch:17 | 0.914 - 0.601\n"
     ]
    },
    {
     "name": "stdout",
     "output_type": "stream",
     "text": [
      "epoch:18 | 0.92 - 0.622\n"
     ]
    },
    {
     "name": "stderr",
     "output_type": "stream",
     "text": [
      "No handles with labels found to put in legend.\n"
     ]
    },
    {
     "name": "stdout",
     "output_type": "stream",
     "text": [
      "epoch:19 | 0.927 - 0.645\n============== 4/16 ==============\nepoch:0 | 0.134 - 0.151\n"
     ]
    },
    {
     "name": "stdout",
     "output_type": "stream",
     "text": [
      "epoch:1 | 0.263 - 0.15\n"
     ]
    },
    {
     "name": "stdout",
     "output_type": "stream",
     "text": [
      "epoch:2 | 0.371 - 0.204\n"
     ]
    },
    {
     "name": "stdout",
     "output_type": "stream",
     "text": [
      "epoch:3 | 0.482 - 0.276\n"
     ]
    },
    {
     "name": "stdout",
     "output_type": "stream",
     "text": [
      "epoch:4 | 0.549 - 0.343\n"
     ]
    },
    {
     "name": "stdout",
     "output_type": "stream",
     "text": [
      "epoch:5 | 0.632 - 0.411\n"
     ]
    },
    {
     "name": "stdout",
     "output_type": "stream",
     "text": [
      "epoch:6 | 0.655 - 0.471\n"
     ]
    },
    {
     "name": "stdout",
     "output_type": "stream",
     "text": [
      "epoch:7 | 0.694 - 0.535\n"
     ]
    },
    {
     "name": "stdout",
     "output_type": "stream",
     "text": [
      "epoch:8 | 0.714 - 0.573\n"
     ]
    },
    {
     "name": "stdout",
     "output_type": "stream",
     "text": [
      "epoch:9 | 0.741 - 0.613\n"
     ]
    },
    {
     "name": "stdout",
     "output_type": "stream",
     "text": [
      "epoch:10 | 0.759 - 0.649\n"
     ]
    },
    {
     "name": "stdout",
     "output_type": "stream",
     "text": [
      "epoch:11 | 0.78 - 0.678\n"
     ]
    },
    {
     "name": "stdout",
     "output_type": "stream",
     "text": [
      "epoch:12 | 0.8 - 0.704\nepoch:13 | 0.811 - 0.732\n"
     ]
    },
    {
     "name": "stdout",
     "output_type": "stream",
     "text": [
      "epoch:14 | 0.824 - 0.758\nepoch:15 | 0.838 - 0.768\n"
     ]
    },
    {
     "name": "stdout",
     "output_type": "stream",
     "text": [
      "epoch:16 | 0.844 - 0.78\n"
     ]
    },
    {
     "name": "stdout",
     "output_type": "stream",
     "text": [
      "epoch:17 | 0.849 - 0.804\n"
     ]
    },
    {
     "name": "stdout",
     "output_type": "stream",
     "text": [
      "epoch:18 | 0.858 - 0.822\n"
     ]
    },
    {
     "name": "stderr",
     "output_type": "stream",
     "text": [
      "No handles with labels found to put in legend.\n"
     ]
    },
    {
     "name": "stdout",
     "output_type": "stream",
     "text": [
      "epoch:19 | 0.869 - 0.836\n============== 5/16 ==============\nepoch:0 | 0.098 - 0.113\n"
     ]
    },
    {
     "name": "stdout",
     "output_type": "stream",
     "text": [
      "epoch:1 | 0.102 - 0.216\n"
     ]
    },
    {
     "name": "stdout",
     "output_type": "stream",
     "text": [
      "epoch:2 | 0.107 - 0.364\n"
     ]
    },
    {
     "name": "stdout",
     "output_type": "stream",
     "text": [
      "epoch:3 | 0.112 - 0.465\n"
     ]
    },
    {
     "name": "stdout",
     "output_type": "stream",
     "text": [
      "epoch:4 | 0.112 - 0.537\n"
     ]
    },
    {
     "name": "stdout",
     "output_type": "stream",
     "text": [
      "epoch:5 | 0.118 - 0.601\n"
     ]
    },
    {
     "name": "stdout",
     "output_type": "stream",
     "text": [
      "epoch:6 | 0.131 - 0.663\n"
     ]
    },
    {
     "name": "stdout",
     "output_type": "stream",
     "text": [
      "epoch:7 | 0.132 - 0.699\n"
     ]
    },
    {
     "name": "stdout",
     "output_type": "stream",
     "text": [
      "epoch:8 | 0.146 - 0.731\n"
     ]
    },
    {
     "name": "stdout",
     "output_type": "stream",
     "text": [
      "epoch:9 | 0.157 - 0.758\nepoch:10 | 0.173 - 0.775\n"
     ]
    },
    {
     "name": "stdout",
     "output_type": "stream",
     "text": [
      "epoch:11 | 0.197 - 0.809\n"
     ]
    },
    {
     "name": "stdout",
     "output_type": "stream",
     "text": [
      "epoch:12 | 0.217 - 0.825\n"
     ]
    },
    {
     "name": "stdout",
     "output_type": "stream",
     "text": [
      "epoch:13 | 0.266 - 0.834\n"
     ]
    },
    {
     "name": "stdout",
     "output_type": "stream",
     "text": [
      "epoch:14 | 0.303 - 0.842\n"
     ]
    },
    {
     "name": "stdout",
     "output_type": "stream",
     "text": [
      "epoch:15 | 0.316 - 0.852\n"
     ]
    },
    {
     "name": "stdout",
     "output_type": "stream",
     "text": [
      "epoch:16 | 0.325 - 0.861\n"
     ]
    },
    {
     "name": "stdout",
     "output_type": "stream",
     "text": [
      "epoch:17 | 0.351 - 0.873\nepoch:18 | 0.381 - 0.885\n"
     ]
    },
    {
     "name": "stderr",
     "output_type": "stream",
     "text": [
      "No handles with labels found to put in legend.\n"
     ]
    },
    {
     "name": "stdout",
     "output_type": "stream",
     "text": [
      "epoch:19 | 0.386 - 0.898\n============== 6/16 ==============\nepoch:0 | 0.121 - 0.092\n"
     ]
    },
    {
     "name": "stdout",
     "output_type": "stream",
     "text": [
      "epoch:1 | 0.104 - 0.213\n"
     ]
    },
    {
     "name": "stdout",
     "output_type": "stream",
     "text": [
      "epoch:2 | 0.187 - 0.423\n"
     ]
    },
    {
     "name": "stdout",
     "output_type": "stream",
     "text": [
      "epoch:3 | 0.152 - 0.608\n"
     ]
    },
    {
     "name": "stdout",
     "output_type": "stream",
     "text": [
      "epoch:4 | 0.166 - 0.675\n"
     ]
    },
    {
     "name": "stdout",
     "output_type": "stream",
     "text": [
      "epoch:5 | 0.128 - 0.724\n"
     ]
    },
    {
     "name": "stdout",
     "output_type": "stream",
     "text": [
      "epoch:6 | 0.118 - 0.748\n"
     ]
    },
    {
     "name": "stdout",
     "output_type": "stream",
     "text": [
      "epoch:7 | 0.121 - 0.786\n"
     ]
    },
    {
     "name": "stdout",
     "output_type": "stream",
     "text": [
      "epoch:8 | 0.216 - 0.795\n"
     ]
    },
    {
     "name": "stdout",
     "output_type": "stream",
     "text": [
      "epoch:9 | 0.211 - 0.818\n"
     ]
    },
    {
     "name": "stdout",
     "output_type": "stream",
     "text": [
      "epoch:10 | 0.191 - 0.829\n"
     ]
    },
    {
     "name": "stdout",
     "output_type": "stream",
     "text": [
      "epoch:11 | 0.212 - 0.849\n"
     ]
    },
    {
     "name": "stdout",
     "output_type": "stream",
     "text": [
      "epoch:12 | 0.209 - 0.868\n"
     ]
    },
    {
     "name": "stdout",
     "output_type": "stream",
     "text": [
      "epoch:13 | 0.205 - 0.887\n"
     ]
    },
    {
     "name": "stdout",
     "output_type": "stream",
     "text": [
      "epoch:14 | 0.2 - 0.898\n"
     ]
    },
    {
     "name": "stdout",
     "output_type": "stream",
     "text": [
      "epoch:15 | 0.215 - 0.903\n"
     ]
    },
    {
     "name": "stdout",
     "output_type": "stream",
     "text": [
      "epoch:16 | 0.148 - 0.91\n"
     ]
    },
    {
     "name": "stdout",
     "output_type": "stream",
     "text": [
      "epoch:17 | 0.12 - 0.921\n"
     ]
    },
    {
     "name": "stdout",
     "output_type": "stream",
     "text": [
      "epoch:18 | 0.127 - 0.934\n"
     ]
    },
    {
     "name": "stderr",
     "output_type": "stream",
     "text": [
      "No handles with labels found to put in legend.\n"
     ]
    },
    {
     "name": "stdout",
     "output_type": "stream",
     "text": [
      "epoch:19 | 0.124 - 0.937\n============== 7/16 ==============\nepoch:0 | 0.116 - 0.061\n"
     ]
    },
    {
     "name": "stdout",
     "output_type": "stream",
     "text": [
      "epoch:1 | 0.105 - 0.239\n"
     ]
    },
    {
     "name": "stdout",
     "output_type": "stream",
     "text": [
      "epoch:2 | 0.105 - 0.613\n"
     ]
    },
    {
     "name": "stdout",
     "output_type": "stream",
     "text": [
      "epoch:3 | 0.105 - 0.75\n"
     ]
    },
    {
     "name": "stdout",
     "output_type": "stream",
     "text": [
      "epoch:4 | 0.116 - 0.789\n"
     ]
    },
    {
     "name": "stdout",
     "output_type": "stream",
     "text": [
      "epoch:5 | 0.116 - 0.812\nepoch:6 | 0.116 - 0.85\n"
     ]
    },
    {
     "name": "stdout",
     "output_type": "stream",
     "text": [
      "epoch:7 | 0.116 - 0.867\n"
     ]
    },
    {
     "name": "stdout",
     "output_type": "stream",
     "text": [
      "epoch:8 | 0.116 - 0.883\nepoch:9 | 0.116 - 0.903\n"
     ]
    },
    {
     "name": "stdout",
     "output_type": "stream",
     "text": [
      "epoch:10 | 0.116 - 0.921\n"
     ]
    },
    {
     "name": "stdout",
     "output_type": "stream",
     "text": [
      "epoch:11 | 0.116 - 0.937\n"
     ]
    },
    {
     "name": "stdout",
     "output_type": "stream",
     "text": [
      "epoch:12 | 0.116 - 0.951\n"
     ]
    },
    {
     "name": "stdout",
     "output_type": "stream",
     "text": [
      "epoch:13 | 0.116 - 0.964\n"
     ]
    },
    {
     "name": "stdout",
     "output_type": "stream",
     "text": [
      "epoch:14 | 0.116 - 0.971\n"
     ]
    },
    {
     "name": "stdout",
     "output_type": "stream",
     "text": [
      "epoch:15 | 0.116 - 0.978\n"
     ]
    },
    {
     "name": "stdout",
     "output_type": "stream",
     "text": [
      "epoch:16 | 0.116 - 0.985\n"
     ]
    },
    {
     "name": "stdout",
     "output_type": "stream",
     "text": [
      "epoch:17 | 0.117 - 0.989\n"
     ]
    },
    {
     "name": "stdout",
     "output_type": "stream",
     "text": [
      "epoch:18 | 0.117 - 0.992\n"
     ]
    },
    {
     "name": "stderr",
     "output_type": "stream",
     "text": [
      "No handles with labels found to put in legend.\n"
     ]
    },
    {
     "name": "stdout",
     "output_type": "stream",
     "text": [
      "epoch:19 | 0.117 - 0.994\n============== 8/16 ==============\nepoch:0 | 0.1 - 0.127\n"
     ]
    },
    {
     "name": "stdout",
     "output_type": "stream",
     "text": [
      "epoch:1 | 0.116 - 0.435\n"
     ]
    },
    {
     "name": "stdout",
     "output_type": "stream",
     "text": [
      "epoch:2 | 0.117 - 0.62\n"
     ]
    },
    {
     "name": "stdout",
     "output_type": "stream",
     "text": [
      "epoch:3 | 0.117 - 0.695\n"
     ]
    },
    {
     "name": "stdout",
     "output_type": "stream",
     "text": [
      "epoch:4 | 0.116 - 0.788\n"
     ]
    },
    {
     "name": "stdout",
     "output_type": "stream",
     "text": [
      "epoch:5 | 0.117 - 0.841\n"
     ]
    },
    {
     "name": "stdout",
     "output_type": "stream",
     "text": [
      "epoch:6 | 0.116 - 0.865\n"
     ]
    },
    {
     "name": "stdout",
     "output_type": "stream",
     "text": [
      "epoch:7 | 0.116 - 0.911\n"
     ]
    },
    {
     "name": "stdout",
     "output_type": "stream",
     "text": [
      "epoch:8 | 0.116 - 0.945\n"
     ]
    },
    {
     "name": "stdout",
     "output_type": "stream",
     "text": [
      "epoch:9 | 0.116 - 0.96\n"
     ]
    },
    {
     "name": "stdout",
     "output_type": "stream",
     "text": [
      "epoch:10 | 0.116 - 0.974\n"
     ]
    },
    {
     "name": "stdout",
     "output_type": "stream",
     "text": [
      "epoch:11 | 0.116 - 0.981\n"
     ]
    },
    {
     "name": "stdout",
     "output_type": "stream",
     "text": [
      "epoch:12 | 0.116 - 0.987\n"
     ]
    },
    {
     "name": "stdout",
     "output_type": "stream",
     "text": [
      "epoch:13 | 0.116 - 0.995\n"
     ]
    },
    {
     "name": "stdout",
     "output_type": "stream",
     "text": [
      "epoch:14 | 0.116 - 0.994\n"
     ]
    },
    {
     "name": "stdout",
     "output_type": "stream",
     "text": [
      "epoch:15 | 0.116 - 0.996\n"
     ]
    },
    {
     "name": "stdout",
     "output_type": "stream",
     "text": [
      "epoch:16 | 0.116 - 0.999\n"
     ]
    },
    {
     "name": "stdout",
     "output_type": "stream",
     "text": [
      "epoch:17 | 0.116 - 1.0\n"
     ]
    },
    {
     "name": "stdout",
     "output_type": "stream",
     "text": [
      "epoch:18 | 0.116 - 1.0\n"
     ]
    },
    {
     "name": "stderr",
     "output_type": "stream",
     "text": [
      "No handles with labels found to put in legend.\n"
     ]
    },
    {
     "name": "stdout",
     "output_type": "stream",
     "text": [
      "epoch:19 | 0.116 - 1.0\n============== 9/16 ==============\n"
     ]
    },
    {
     "name": "stdout",
     "output_type": "stream",
     "text": [
      "epoch:0 | 0.117 - 0.088\n"
     ]
    },
    {
     "name": "stdout",
     "output_type": "stream",
     "text": [
      "epoch:1 | 0.117 - 0.38\n"
     ]
    },
    {
     "name": "stdout",
     "output_type": "stream",
     "text": [
      "epoch:2 | 0.116 - 0.742\n"
     ]
    },
    {
     "name": "stdout",
     "output_type": "stream",
     "text": [
      "epoch:3 | 0.116 - 0.813\n"
     ]
    },
    {
     "name": "stdout",
     "output_type": "stream",
     "text": [
      "epoch:4 | 0.116 - 0.889\n"
     ]
    },
    {
     "name": "stdout",
     "output_type": "stream",
     "text": [
      "epoch:5 | 0.116 - 0.922\n"
     ]
    },
    {
     "name": "stdout",
     "output_type": "stream",
     "text": [
      "epoch:6 | 0.116 - 0.96\n"
     ]
    },
    {
     "name": "stdout",
     "output_type": "stream",
     "text": [
      "epoch:7 | 0.116 - 0.978\n"
     ]
    },
    {
     "name": "stdout",
     "output_type": "stream",
     "text": [
      "epoch:8 | 0.116 - 0.985\n"
     ]
    },
    {
     "name": "stdout",
     "output_type": "stream",
     "text": [
      "epoch:9 | 0.116 - 0.991\n"
     ]
    },
    {
     "name": "stdout",
     "output_type": "stream",
     "text": [
      "epoch:10 | 0.116 - 0.991\nepoch:11 | 0.116 - 0.998\n"
     ]
    },
    {
     "name": "stdout",
     "output_type": "stream",
     "text": [
      "epoch:12 | 0.116 - 0.999\n"
     ]
    },
    {
     "name": "stdout",
     "output_type": "stream",
     "text": [
      "epoch:13 | 0.116 - 0.998\n"
     ]
    },
    {
     "name": "stdout",
     "output_type": "stream",
     "text": [
      "epoch:14 | 0.116 - 0.998\n"
     ]
    },
    {
     "name": "stdout",
     "output_type": "stream",
     "text": [
      "epoch:15 | 0.116 - 1.0\n"
     ]
    },
    {
     "name": "stdout",
     "output_type": "stream",
     "text": [
      "epoch:16 | 0.116 - 1.0\n"
     ]
    },
    {
     "name": "stdout",
     "output_type": "stream",
     "text": [
      "epoch:17 | 0.116 - 1.0\n"
     ]
    },
    {
     "name": "stdout",
     "output_type": "stream",
     "text": [
      "epoch:18 | 0.116 - 1.0\n"
     ]
    },
    {
     "name": "stderr",
     "output_type": "stream",
     "text": [
      "No handles with labels found to put in legend.\n"
     ]
    },
    {
     "name": "stdout",
     "output_type": "stream",
     "text": [
      "epoch:19 | 0.116 - 1.0\n============== 10/16 ==============\nepoch:0 | 0.116 - 0.14\n"
     ]
    },
    {
     "name": "stdout",
     "output_type": "stream",
     "text": [
      "epoch:1 | 0.117 - 0.631\n"
     ]
    },
    {
     "name": "stdout",
     "output_type": "stream",
     "text": [
      "epoch:2 | 0.117 - 0.814\n"
     ]
    },
    {
     "name": "stdout",
     "output_type": "stream",
     "text": [
      "epoch:3 | 0.117 - 0.877\n"
     ]
    },
    {
     "name": "stdout",
     "output_type": "stream",
     "text": [
      "epoch:4 | 0.117 - 0.913\n"
     ]
    },
    {
     "name": "stdout",
     "output_type": "stream",
     "text": [
      "epoch:5 | 0.117 - 0.923\n"
     ]
    },
    {
     "name": "stdout",
     "output_type": "stream",
     "text": [
      "epoch:6 | 0.117 - 0.858\n"
     ]
    },
    {
     "name": "stdout",
     "output_type": "stream",
     "text": [
      "epoch:7 | 0.117 - 0.943\n"
     ]
    },
    {
     "name": "stdout",
     "output_type": "stream",
     "text": [
      "epoch:8 | 0.117 - 0.977\n"
     ]
    },
    {
     "name": "stdout",
     "output_type": "stream",
     "text": [
      "epoch:9 | 0.117 - 0.981\n"
     ]
    },
    {
     "name": "stdout",
     "output_type": "stream",
     "text": [
      "epoch:10 | 0.117 - 0.982\n"
     ]
    },
    {
     "name": "stdout",
     "output_type": "stream",
     "text": [
      "epoch:11 | 0.117 - 0.992\n"
     ]
    },
    {
     "name": "stdout",
     "output_type": "stream",
     "text": [
      "epoch:12 | 0.117 - 0.994\n"
     ]
    },
    {
     "name": "stdout",
     "output_type": "stream",
     "text": [
      "epoch:13 | 0.117 - 0.997\n"
     ]
    },
    {
     "name": "stdout",
     "output_type": "stream",
     "text": [
      "epoch:14 | 0.117 - 0.998\n"
     ]
    },
    {
     "name": "stdout",
     "output_type": "stream",
     "text": [
      "epoch:15 | 0.117 - 1.0\n"
     ]
    },
    {
     "name": "stdout",
     "output_type": "stream",
     "text": [
      "epoch:16 | 0.117 - 1.0\n"
     ]
    },
    {
     "name": "stdout",
     "output_type": "stream",
     "text": [
      "epoch:17 | 0.117 - 1.0\nepoch:18 | 0.117 - 1.0\n"
     ]
    },
    {
     "name": "stderr",
     "output_type": "stream",
     "text": [
      "No handles with labels found to put in legend.\n"
     ]
    },
    {
     "name": "stdout",
     "output_type": "stream",
     "text": [
      "epoch:19 | 0.117 - 1.0\n============== 11/16 ==============\nepoch:0 | 0.094 - 0.174\n"
     ]
    },
    {
     "name": "stdout",
     "output_type": "stream",
     "text": [
      "epoch:1 | 0.117 - 0.517\n"
     ]
    },
    {
     "name": "stdout",
     "output_type": "stream",
     "text": [
      "epoch:2 | 0.116 - 0.622\n"
     ]
    },
    {
     "name": "stdout",
     "output_type": "stream",
     "text": [
      "epoch:3 | 0.116 - 0.75\n"
     ]
    },
    {
     "name": "stdout",
     "output_type": "stream",
     "text": [
      "epoch:4 | 0.116 - 0.78\n"
     ]
    },
    {
     "name": "stdout",
     "output_type": "stream",
     "text": [
      "epoch:5 | 0.117 - 0.809\n"
     ]
    },
    {
     "name": "stdout",
     "output_type": "stream",
     "text": [
      "epoch:6 | 0.117 - 0.869\n"
     ]
    },
    {
     "name": "stdout",
     "output_type": "stream",
     "text": [
      "epoch:7 | 0.117 - 0.886\n"
     ]
    },
    {
     "name": "stdout",
     "output_type": "stream",
     "text": [
      "epoch:8 | 0.117 - 0.958\n"
     ]
    },
    {
     "name": "stdout",
     "output_type": "stream",
     "text": [
      "epoch:9 | 0.117 - 0.921\n"
     ]
    },
    {
     "name": "stdout",
     "output_type": "stream",
     "text": [
      "epoch:10 | 0.117 - 0.982\n"
     ]
    },
    {
     "name": "stdout",
     "output_type": "stream",
     "text": [
      "epoch:11 | 0.117 - 0.929\n"
     ]
    },
    {
     "name": "stdout",
     "output_type": "stream",
     "text": [
      "epoch:12 | 0.117 - 0.977\n"
     ]
    },
    {
     "name": "stdout",
     "output_type": "stream",
     "text": [
      "epoch:13 | 0.117 - 0.983\n"
     ]
    },
    {
     "name": "stdout",
     "output_type": "stream",
     "text": [
      "epoch:14 | 0.117 - 0.989\n"
     ]
    },
    {
     "name": "stdout",
     "output_type": "stream",
     "text": [
      "epoch:15 | 0.117 - 0.92\n"
     ]
    },
    {
     "name": "stdout",
     "output_type": "stream",
     "text": [
      "epoch:16 | 0.117 - 0.979\n"
     ]
    },
    {
     "name": "stdout",
     "output_type": "stream",
     "text": [
      "epoch:17 | 0.117 - 0.992\n"
     ]
    },
    {
     "name": "stdout",
     "output_type": "stream",
     "text": [
      "epoch:18 | 0.117 - 0.993\n"
     ]
    },
    {
     "name": "stderr",
     "output_type": "stream",
     "text": [
      "No handles with labels found to put in legend.\n"
     ]
    },
    {
     "name": "stdout",
     "output_type": "stream",
     "text": [
      "epoch:19 | 0.117 - 0.993\n============== 12/16 ==============\nepoch:0 | 0.117 - 0.182\n"
     ]
    },
    {
     "name": "stdout",
     "output_type": "stream",
     "text": [
      "epoch:1 | 0.116 - 0.445\n"
     ]
    },
    {
     "name": "stdout",
     "output_type": "stream",
     "text": [
      "epoch:2 | 0.117 - 0.525\n"
     ]
    },
    {
     "name": "stdout",
     "output_type": "stream",
     "text": [
      "epoch:3 | 0.117 - 0.664\n"
     ]
    },
    {
     "name": "stdout",
     "output_type": "stream",
     "text": [
      "epoch:4 | 0.117 - 0.825\n"
     ]
    },
    {
     "name": "stdout",
     "output_type": "stream",
     "text": [
      "epoch:5 | 0.116 - 0.838\n"
     ]
    },
    {
     "name": "stdout",
     "output_type": "stream",
     "text": [
      "epoch:6 | 0.116 - 0.857\n"
     ]
    },
    {
     "name": "stdout",
     "output_type": "stream",
     "text": [
      "epoch:7 | 0.116 - 0.84\n"
     ]
    },
    {
     "name": "stdout",
     "output_type": "stream",
     "text": [
      "epoch:8 | 0.116 - 0.877\n"
     ]
    },
    {
     "name": "stdout",
     "output_type": "stream",
     "text": [
      "epoch:9 | 0.116 - 0.927\n"
     ]
    },
    {
     "name": "stdout",
     "output_type": "stream",
     "text": [
      "epoch:10 | 0.116 - 0.976\n"
     ]
    },
    {
     "name": "stdout",
     "output_type": "stream",
     "text": [
      "epoch:11 | 0.117 - 0.929\n"
     ]
    },
    {
     "name": "stdout",
     "output_type": "stream",
     "text": [
      "epoch:12 | 0.117 - 0.976\n"
     ]
    },
    {
     "name": "stdout",
     "output_type": "stream",
     "text": [
      "epoch:13 | 0.117 - 0.977\n"
     ]
    },
    {
     "name": "stdout",
     "output_type": "stream",
     "text": [
      "epoch:14 | 0.117 - 0.974\n"
     ]
    },
    {
     "name": "stdout",
     "output_type": "stream",
     "text": [
      "epoch:15 | 0.117 - 0.982\n"
     ]
    },
    {
     "name": "stdout",
     "output_type": "stream",
     "text": [
      "epoch:16 | 0.117 - 0.986\n"
     ]
    },
    {
     "name": "stdout",
     "output_type": "stream",
     "text": [
      "epoch:17 | 0.117 - 0.964\nepoch:18 | 0.117 - 0.982\n"
     ]
    },
    {
     "name": "stderr",
     "output_type": "stream",
     "text": [
      "No handles with labels found to put in legend.\n"
     ]
    },
    {
     "name": "stdout",
     "output_type": "stream",
     "text": [
      "epoch:19 | 0.117 - 0.982\n============== 13/16 ==============\nepoch:0 | 0.117 - 0.114\n"
     ]
    },
    {
     "name": "stdout",
     "output_type": "stream",
     "text": [
      "epoch:1 | 0.117 - 0.464\n"
     ]
    },
    {
     "name": "stdout",
     "output_type": "stream",
     "text": [
      "epoch:2 | 0.117 - 0.538\n"
     ]
    },
    {
     "name": "stdout",
     "output_type": "stream",
     "text": [
      "epoch:3 | 0.117 - 0.661\nepoch:4 | 0.117 - 0.661\n"
     ]
    },
    {
     "name": "stdout",
     "output_type": "stream",
     "text": [
      "epoch:5 | 0.117 - 0.732\n"
     ]
    },
    {
     "name": "stdout",
     "output_type": "stream",
     "text": [
      "epoch:6 | 0.117 - 0.68\n"
     ]
    },
    {
     "name": "stdout",
     "output_type": "stream",
     "text": [
      "epoch:7 | 0.117 - 0.749\nepoch:8 | 0.117 - 0.715\n"
     ]
    },
    {
     "name": "stdout",
     "output_type": "stream",
     "text": [
      "epoch:9 | 0.117 - 0.768\n"
     ]
    },
    {
     "name": "stdout",
     "output_type": "stream",
     "text": [
      "epoch:10 | 0.117 - 0.832\nepoch:11 | 0.117 - 0.873\n"
     ]
    },
    {
     "name": "stdout",
     "output_type": "stream",
     "text": [
      "epoch:12 | 0.117 - 0.868\n"
     ]
    },
    {
     "name": "stdout",
     "output_type": "stream",
     "text": [
      "epoch:13 | 0.117 - 0.876\n"
     ]
    },
    {
     "name": "stdout",
     "output_type": "stream",
     "text": [
      "epoch:14 | 0.117 - 0.871\n"
     ]
    },
    {
     "name": "stdout",
     "output_type": "stream",
     "text": [
      "epoch:15 | 0.117 - 0.881\n"
     ]
    },
    {
     "name": "stdout",
     "output_type": "stream",
     "text": [
      "epoch:16 | 0.117 - 0.883\n"
     ]
    },
    {
     "name": "stdout",
     "output_type": "stream",
     "text": [
      "epoch:17 | 0.117 - 0.861\n"
     ]
    },
    {
     "name": "stdout",
     "output_type": "stream",
     "text": [
      "epoch:18 | 0.117 - 0.876\n"
     ]
    },
    {
     "name": "stderr",
     "output_type": "stream",
     "text": [
      "No handles with labels found to put in legend.\n"
     ]
    },
    {
     "name": "stdout",
     "output_type": "stream",
     "text": [
      "epoch:19 | 0.117 - 0.83\n============== 14/16 ==============\nepoch:0 | 0.116 - 0.096\n"
     ]
    },
    {
     "name": "stdout",
     "output_type": "stream",
     "text": [
      "epoch:1 | 0.117 - 0.362\n"
     ]
    },
    {
     "name": "stdout",
     "output_type": "stream",
     "text": [
      "epoch:2 | 0.116 - 0.364\n"
     ]
    },
    {
     "name": "stdout",
     "output_type": "stream",
     "text": [
      "epoch:3 | 0.117 - 0.514\n"
     ]
    },
    {
     "name": "stdout",
     "output_type": "stream",
     "text": [
      "epoch:4 | 0.116 - 0.552\n"
     ]
    },
    {
     "name": "stdout",
     "output_type": "stream",
     "text": [
      "epoch:5 | 0.116 - 0.561\n"
     ]
    },
    {
     "name": "stdout",
     "output_type": "stream",
     "text": [
      "epoch:6 | 0.116 - 0.587\n"
     ]
    },
    {
     "name": "stdout",
     "output_type": "stream",
     "text": [
      "epoch:7 | 0.116 - 0.573\n"
     ]
    },
    {
     "name": "stdout",
     "output_type": "stream",
     "text": [
      "epoch:8 | 0.116 - 0.596\n"
     ]
    },
    {
     "name": "stdout",
     "output_type": "stream",
     "text": [
      "epoch:9 | 0.116 - 0.6\n"
     ]
    },
    {
     "name": "stdout",
     "output_type": "stream",
     "text": [
      "epoch:10 | 0.116 - 0.568\n"
     ]
    },
    {
     "name": "stdout",
     "output_type": "stream",
     "text": [
      "epoch:11 | 0.116 - 0.605\n"
     ]
    },
    {
     "name": "stdout",
     "output_type": "stream",
     "text": [
      "epoch:12 | 0.116 - 0.605\n"
     ]
    },
    {
     "name": "stdout",
     "output_type": "stream",
     "text": [
      "epoch:13 | 0.116 - 0.602\n"
     ]
    },
    {
     "name": "stdout",
     "output_type": "stream",
     "text": [
      "epoch:14 | 0.116 - 0.602\n"
     ]
    },
    {
     "name": "stdout",
     "output_type": "stream",
     "text": [
      "epoch:15 | 0.116 - 0.602\n"
     ]
    },
    {
     "name": "stdout",
     "output_type": "stream",
     "text": [
      "epoch:16 | 0.116 - 0.604\n"
     ]
    },
    {
     "name": "stdout",
     "output_type": "stream",
     "text": [
      "epoch:17 | 0.116 - 0.599\n"
     ]
    },
    {
     "name": "stdout",
     "output_type": "stream",
     "text": [
      "epoch:18 | 0.116 - 0.606\n"
     ]
    },
    {
     "name": "stderr",
     "output_type": "stream",
     "text": [
      "No handles with labels found to put in legend.\n"
     ]
    },
    {
     "name": "stdout",
     "output_type": "stream",
     "text": [
      "epoch:19 | 0.116 - 0.604\n============== 15/16 ==============\nepoch:0 | 0.116 - 0.124\n"
     ]
    },
    {
     "name": "stdout",
     "output_type": "stream",
     "text": [
      "epoch:1 | 0.117 - 0.291\n"
     ]
    },
    {
     "name": "stdout",
     "output_type": "stream",
     "text": [
      "epoch:2 | 0.117 - 0.298\n"
     ]
    },
    {
     "name": "stdout",
     "output_type": "stream",
     "text": [
      "epoch:3 | 0.117 - 0.443\n"
     ]
    },
    {
     "name": "stdout",
     "output_type": "stream",
     "text": [
      "epoch:4 | 0.116 - 0.461\n"
     ]
    },
    {
     "name": "stdout",
     "output_type": "stream",
     "text": [
      "epoch:5 | 0.117 - 0.465\n"
     ]
    },
    {
     "name": "stdout",
     "output_type": "stream",
     "text": [
      "epoch:6 | 0.117 - 0.488\n"
     ]
    },
    {
     "name": "stdout",
     "output_type": "stream",
     "text": [
      "epoch:7 | 0.117 - 0.5\n"
     ]
    },
    {
     "name": "stdout",
     "output_type": "stream",
     "text": [
      "epoch:8 | 0.117 - 0.506\n"
     ]
    },
    {
     "name": "stdout",
     "output_type": "stream",
     "text": [
      "epoch:9 | 0.117 - 0.509\n"
     ]
    },
    {
     "name": "stdout",
     "output_type": "stream",
     "text": [
      "epoch:10 | 0.117 - 0.511\n"
     ]
    },
    {
     "name": "stdout",
     "output_type": "stream",
     "text": [
      "epoch:11 | 0.117 - 0.51\n"
     ]
    },
    {
     "name": "stdout",
     "output_type": "stream",
     "text": [
      "epoch:12 | 0.117 - 0.508\n"
     ]
    },
    {
     "name": "stdout",
     "output_type": "stream",
     "text": [
      "epoch:13 | 0.117 - 0.512\n"
     ]
    },
    {
     "name": "stdout",
     "output_type": "stream",
     "text": [
      "epoch:14 | 0.117 - 0.513\n"
     ]
    },
    {
     "name": "stdout",
     "output_type": "stream",
     "text": [
      "epoch:15 | 0.117 - 0.515\n"
     ]
    },
    {
     "name": "stdout",
     "output_type": "stream",
     "text": [
      "epoch:16 | 0.117 - 0.516\n"
     ]
    },
    {
     "name": "stdout",
     "output_type": "stream",
     "text": [
      "epoch:17 | 0.117 - 0.508\n"
     ]
    },
    {
     "name": "stdout",
     "output_type": "stream",
     "text": [
      "epoch:18 | 0.117 - 0.518\n"
     ]
    },
    {
     "name": "stderr",
     "output_type": "stream",
     "text": [
      "No handles with labels found to put in legend.\n"
     ]
    },
    {
     "name": "stdout",
     "output_type": "stream",
     "text": [
      "epoch:19 | 0.117 - 0.51\n============== 16/16 ==============\nepoch:0 | 0.105 - 0.216\n"
     ]
    },
    {
     "name": "stdout",
     "output_type": "stream",
     "text": [
      "epoch:1 | 0.117 - 0.127\n"
     ]
    },
    {
     "name": "stdout",
     "output_type": "stream",
     "text": [
      "epoch:2 | 0.117 - 0.357\n"
     ]
    },
    {
     "name": "stdout",
     "output_type": "stream",
     "text": [
      "epoch:3 | 0.116 - 0.375\n"
     ]
    },
    {
     "name": "stdout",
     "output_type": "stream",
     "text": [
      "epoch:4 | 0.117 - 0.412\n"
     ]
    },
    {
     "name": "stdout",
     "output_type": "stream",
     "text": [
      "epoch:5 | 0.117 - 0.412\n"
     ]
    },
    {
     "name": "stdout",
     "output_type": "stream",
     "text": [
      "epoch:6 | 0.117 - 0.416\n"
     ]
    },
    {
     "name": "stdout",
     "output_type": "stream",
     "text": [
      "epoch:7 | 0.117 - 0.495\n"
     ]
    },
    {
     "name": "stdout",
     "output_type": "stream",
     "text": [
      "epoch:8 | 0.117 - 0.51\n"
     ]
    },
    {
     "name": "stdout",
     "output_type": "stream",
     "text": [
      "epoch:9 | 0.117 - 0.505\n"
     ]
    },
    {
     "name": "stdout",
     "output_type": "stream",
     "text": [
      "epoch:10 | 0.116 - 0.497\n"
     ]
    },
    {
     "name": "stdout",
     "output_type": "stream",
     "text": [
      "epoch:11 | 0.116 - 0.506\n"
     ]
    },
    {
     "name": "stdout",
     "output_type": "stream",
     "text": [
      "epoch:12 | 0.116 - 0.491\n"
     ]
    },
    {
     "name": "stdout",
     "output_type": "stream",
     "text": [
      "epoch:13 | 0.117 - 0.273\n"
     ]
    },
    {
     "name": "stdout",
     "output_type": "stream",
     "text": [
      "epoch:14 | 0.117 - 0.513\n"
     ]
    },
    {
     "name": "stdout",
     "output_type": "stream",
     "text": [
      "epoch:15 | 0.117 - 0.515\n"
     ]
    },
    {
     "name": "stdout",
     "output_type": "stream",
     "text": [
      "epoch:16 | 0.117 - 0.524\n"
     ]
    },
    {
     "name": "stdout",
     "output_type": "stream",
     "text": [
      "epoch:17 | 0.116 - 0.524\n"
     ]
    },
    {
     "name": "stdout",
     "output_type": "stream",
     "text": [
      "epoch:18 | 0.117 - 0.521\n"
     ]
    },
    {
     "name": "stdout",
     "output_type": "stream",
     "text": [
      "epoch:19 | 0.117 - 0.523\n"
     ]
    },
    {
     "data": {
      "image/png": "[encoded data removed]",
      "text/plain": [
       "<matplotlib.figure.Figure at 0x11d77471550>"
      ]
     },
     "metadata": {},
     "output_type": "display_data"
    }
   ],
   "source": [
    "# coding: utf-8\n",
    "import sys, os\n",
    "sys.path.append(os.pardir)  # 親ディレクトリのファイルをインポートするための設定\n",
    "import numpy as np\n",
    "import matplotlib.pyplot as plt\n",
    "from dataset.mnist import load_mnist\n",
    "from common.multi_layer_net_extend import MultiLayerNetExtend\n",
    "from common.optimizer import SGD, Adam\n",
    "\n",
    "(x_train, t_train), (x_test, t_test) = load_mnist(normalize=True)\n",
    "\n",
    "# 学習データを削減\n",
    "x_train = x_train[:1000]\n",
    "t_train = t_train[:1000]\n",
    "\n",
    "max_epochs = 20\n",
    "train_size = x_train.shape[0]\n",
    "batch_size = 100\n",
    "learning_rate = 0.01\n",
    "\n",
    "\n",
    "def __train(weight_init_std):\n",
    "    bn_network = MultiLayerNetExtend(input_size=784, hidden_size_list=[100, 100, 100, 100, 100], output_size=10, \n",
    "                                    weight_init_std=weight_init_std, use_batchnorm=True)\n",
    "    network = MultiLayerNetExtend(input_size=784, hidden_size_list=[100, 100, 100, 100, 100], output_size=10,\n",
    "                                weight_init_std=weight_init_std)\n",
    "    optimizer = SGD(lr=learning_rate)\n",
    "    \n",
    "    train_acc_list = []\n",
    "    bn_train_acc_list = []\n",
    "    \n",
    "    iter_per_epoch = max(train_size / batch_size, 1)\n",
    "    epoch_cnt = 0\n",
    "    \n",
    "    for i in range(1000000000):\n",
    "        batch_mask = np.random.choice(train_size, batch_size)\n",
    "        x_batch = x_train[batch_mask]\n",
    "        t_batch = t_train[batch_mask]\n",
    "    \n",
    "        for _network in (bn_network, network):\n",
    "            grads = _network.gradient(x_batch, t_batch)\n",
    "            optimizer.update(_network.params, grads)\n",
    "    \n",
    "        if i % iter_per_epoch == 0:\n",
    "            train_acc = network.accuracy(x_train, t_train)\n",
    "            bn_train_acc = bn_network.accuracy(x_train, t_train)\n",
    "            train_acc_list.append(train_acc)\n",
    "            bn_train_acc_list.append(bn_train_acc)\n",
    "    \n",
    "            print(\"epoch:\" + str(epoch_cnt) + \" | \" + str(train_acc) + \" - \" + str(bn_train_acc))\n",
    "    \n",
    "            epoch_cnt += 1\n",
    "            if epoch_cnt >= max_epochs:\n",
    "                break\n",
    "                \n",
    "    return train_acc_list, bn_train_acc_list\n",
    "\n",
    "\n",
    "# 3.グラフの描画==========\n",
    "weight_scale_list = np.logspace(0, -4, num=16)\n",
    "x = np.arange(max_epochs)\n",
    "\n",
    "for i, w in enumerate(weight_scale_list):\n",
    "    print( \"============== \" + str(i+1) + \"/16\" + \" ==============\")\n",
    "    train_acc_list, bn_train_acc_list = __train(w)\n",
    "    \n",
    "    plt.subplot(4,4,i+1)\n",
    "    plt.title(\"W:\" + str(w))\n",
    "    if i == 15:\n",
    "        plt.plot(x, bn_train_acc_list, label='Batch Normalization', markevery=2)\n",
    "        plt.plot(x, train_acc_list, linestyle = \"--\", label='Normal(without BatchNorm)', markevery=2)\n",
    "    else:\n",
    "        plt.plot(x, bn_train_acc_list, markevery=2)\n",
    "        plt.plot(x, train_acc_list, linestyle=\"--\", markevery=2)\n",
    "\n",
    "    plt.ylim(0, 1.0)\n",
    "    if i % 4:\n",
    "        plt.yticks([])\n",
    "    else:\n",
    "        plt.ylabel(\"accuracy\")\n",
    "    if i < 12:\n",
    "        plt.xticks([])\n",
    "    else:\n",
    "        plt.xlabel(\"epochs\")\n",
    "    plt.legend(loc='lower right')\n",
    "    \n",
    "plt.show()"
   ]
  },
  {
   "cell_type": "code",
   "execution_count": 12,
   "metadata": {},
   "outputs": [
    {
     "ename": "TypeError",
     "evalue": "slice indices must be integers or None or have an __index__ method",
     "traceback": [
      "\u001b[1;31m---------------------------------------------------------------------------\u001b[0m",
      "\u001b[1;31mTypeError\u001b[0m                                 Traceback (most recent call last)",
      "\u001b[1;32m<ipython-input-12-e8b9132ae418>\u001b[0m in \u001b[0;36m<module>\u001b[1;34m()\u001b[0m\n\u001b[0;32m     19\u001b[0m \u001b[0mvalidation_num\u001b[0m \u001b[1;33m=\u001b[0m \u001b[0mx_train\u001b[0m\u001b[1;33m.\u001b[0m\u001b[0mshape\u001b[0m\u001b[1;33m[\u001b[0m\u001b[1;36m0\u001b[0m\u001b[1;33m]\u001b[0m \u001b[1;33m*\u001b[0m \u001b[0mvalidation_rate\u001b[0m\u001b[1;33m\u001b[0m\u001b[0m\n\u001b[0;32m     20\u001b[0m \u001b[0mx_train\u001b[0m\u001b[1;33m,\u001b[0m \u001b[0mt_train\u001b[0m \u001b[1;33m=\u001b[0m \u001b[0mshuffle_dataset\u001b[0m\u001b[1;33m(\u001b[0m\u001b[0mx_train\u001b[0m\u001b[1;33m,\u001b[0m \u001b[0mt_train\u001b[0m\u001b[1;33m)\u001b[0m\u001b[1;33m\u001b[0m\u001b[0m\n\u001b[1;32m---> 21\u001b[1;33m \u001b[0mx_val\u001b[0m \u001b[1;33m=\u001b[0m \u001b[0mx_train\u001b[0m\u001b[1;33m[\u001b[0m\u001b[1;33m:\u001b[0m\u001b[0mvalidation_num\u001b[0m\u001b[1;33m]\u001b[0m\u001b[1;33m\u001b[0m\u001b[0m\n\u001b[0m\u001b[0;32m     22\u001b[0m \u001b[0mt_val\u001b[0m \u001b[1;33m=\u001b[0m \u001b[0mt_train\u001b[0m\u001b[1;33m[\u001b[0m\u001b[1;33m:\u001b[0m\u001b[0mvalidation_num\u001b[0m\u001b[1;33m]\u001b[0m\u001b[1;33m\u001b[0m\u001b[0m\n\u001b[0;32m     23\u001b[0m \u001b[0mx_train\u001b[0m \u001b[1;33m=\u001b[0m \u001b[0mx_train\u001b[0m\u001b[1;33m[\u001b[0m\u001b[0mvalidation_num\u001b[0m\u001b[1;33m:\u001b[0m\u001b[1;33m]\u001b[0m\u001b[1;33m\u001b[0m\u001b[0m\n",
      "\u001b[1;31mTypeError\u001b[0m: slice indices must be integers or None or have an __index__ method"
     ],
     "output_type": "error"
    }
   ],
   "source": [
    "\n"
   ]
  },
  {
   "cell_type": "code",
   "execution_count": null,
   "metadata": {},
   "outputs": [],
   "source": []
  }
 ],
 "metadata": {
  "kernelspec": {
   "display_name": "Python 2",
   "language": "python",
   "name": "python2"
  },
  "language_info": {
   "codemirror_mode": {
    "name": "ipython",
    "version": 2
   },
   "file_extension": ".py",
   "mimetype": "text/x-python",
   "name": "python",
   "nbconvert_exporter": "python",
   "pygments_lexer": "ipython2",
   "version": "2.7.6"
  }
 },
 "nbformat": 4,
 "nbformat_minor": 0
}
